{
 "cells": [
  {
   "cell_type": "code",
   "execution_count": 6,
   "metadata": {},
   "outputs": [],
   "source": [
    "import pandas as pd\n",
    "import numpy as np\n",
    "import os\n",
    "import matplotlib.pyplot as plt\n",
    "import re  #regular expression"
   ]
  },
  {
   "cell_type": "code",
   "execution_count": 7,
   "metadata": {},
   "outputs": [],
   "source": [
    "sheets_to_load = ['Germany',\n",
    "                  'Italy',\n",
    "                  'Poland',\n",
    "                  'Switzerland',\n",
    "                  'Sweden',\n",
    "                  'Thailand',\n",
    "                  'UK',\n",
    "                  'Vietnam',\n",
    "                  'Australia'\n",
    "                ]\n",
    "# selected_sheets = pd.read_excel(r'C:\\Users\\aisar\\OneDrive\\Documents\\ELECTROLUX\\Compilation-raw\\SEPTEMBER\\q13-compilation.xlsx', sheet_name=sheets_to_load)\n",
    "# selected_sheets = pd.read_excel(r'C:\\Users\\aisar\\OneDrive\\Documents\\ELECTROLUX\\Compilation-raw\\OCTOBER\\q13-compilation.xlsx', sheet_name=sheets_to_load)\n",
    "# selected_sheets = pd.read_excel(r'C:\\Users\\aisar\\OneDrive\\Documents\\ELECTROLUX\\Compilation-raw\\NOVEMBER\\q13-compilation.xlsx', sheet_name=sheets_to_load)\n",
    "# selected_sheets = pd.read_excel(r'C:\\Users\\aisar\\OneDrive\\Documents\\ELECTROLUX\\Compilation-raw\\DECEMBER\\q13-compilation.xlsx', sheet_name=sheets_to_load)\n",
    "# selected_sheets = pd.read_excel(r'C:\\Users\\aisar\\OneDrive\\Documents\\ELECTROLUX\\Compilation-raw\\2025\\JANUARY\\q13-compilation.xlsx', sheet_name=sheets_to_load)\n",
    "selected_sheets = pd.read_excel(r'C:\\Users\\aisar\\OneDrive\\Documents\\ELECTROLUX\\Compilation-raw\\2025\\JULY\\q13-compilation.xlsx', sheet_name=sheets_to_load)\n",
    "\n",
    "Germany = selected_sheets['Germany']\n",
    "Italy = selected_sheets['Italy']\n",
    "Poland = selected_sheets['Poland']\n",
    "Switzerland = selected_sheets['Switzerland']\n",
    "Sweden = selected_sheets['Sweden']\n",
    "Thailand = selected_sheets['Thailand']\n",
    "UK = selected_sheets['UK']\n",
    "Vietnam = selected_sheets['Vietnam']\n",
    "Australia = selected_sheets['Australia']"
   ]
  },
  {
   "cell_type": "markdown",
   "metadata": {},
   "source": [
    "### Germany"
   ]
  },
  {
   "cell_type": "code",
   "execution_count": 8,
   "metadata": {},
   "outputs": [
    {
     "name": "stdout",
     "output_type": "stream",
     "text": [
      "<class 'pandas.core.frame.DataFrame'>\n",
      "RangeIndex: 400 entries, 0 to 399\n",
      "Data columns (total 14 columns):\n",
      " #   Column                                                                                                                                                                                                                 Non-Null Count  Dtype  \n",
      "---  ------                                                                                                                                                                                                                 --------------  -----  \n",
      " 0   Response ID                                                                                                                                                                                                            400 non-null    object \n",
      " 1   <img src=\"//surveygizmolibrary.s3.amazonaws.com/library/642038/GM_Bosch.png\" title=\"Bosch\" style=\"width:130px;\" alt=\"GM_Bosch.png\" />:GM - Which of these brands of domestic appliances are you aware of?              339 non-null    float64\n",
      " 2   <img src=\"//surveygizmolibrary.s3.amazonaws.com/library/642038/GM_Bosch.png\" title=\"Bosch\" style=\"width:130px;\" alt=\"GM_Bosch.png\" />:GM - Which of these brands of domestic appliances are you aware of?.1            339 non-null    float64\n",
      " 3   <img src=\"//surveygizmolibrary.s3.amazonaws.com/library/642038/GM_Miele.png\" title=\"Miele\" style=\"width:130px;\" alt=\"GM_Miele.png\" />:GM - Which of these brands of domestic appliances are you aware of?              322 non-null    float64\n",
      " 4   <img src=\"//surveygizmolibrary.s3.amazonaws.com/library/642038/GM_Siemens.png\" title=\"Siemens\" style=\"width:130px;\" alt=\"GM_Siemens.png\" />:GM - Which of these brands of domestic appliances are you aware of?        319 non-null    float64\n",
      " 5   <img src=\"//surveygizmolibrary.s3.amazonaws.com/library/642038/GM_AEG.png\" title=\"AEG\" style=\"width:130px;\" alt=\"GM_AEG.png\" />:GM - Which of these brands of domestic appliances are you aware of?                    314 non-null    float64\n",
      " 6   <img src=\"//surveygizmolibrary.s3.amazonaws.com/library/642038/GM_Samsung.png\" title=\"Samsung\" style=\"width:130px;\" alt=\"GM_Samsung.png\" />:GM - Which of these brands of domestic appliances are you aware of?        309 non-null    float64\n",
      " 7   <img src=\"//surveygizmolibrary.s3.amazonaws.com/library/642038/GM_Bauknecht.png\" title=\"Bauknecht\" style=\"width:130px;\" alt=\"GM_Bauknecht.png\" />:GM - Which of these brands of domestic appliances are you aware of?  293 non-null    float64\n",
      " 8   <img src=\"//surveygizmolibrary.s3.amazonaws.com/library/642038/GM_Philips.png\" title=\"Philips\" style=\"width:130px;\" alt=\"GM_Philips.png\" />:GM - Which of these brands of domestic appliances are you aware of?        310 non-null    float64\n",
      " 9   <img src=\"//surveygizmolibrary.s3.amazonaws.com/library/642038/GM_LG.png\" title=\"LG\" style=\"width:130px;\" alt=\"GM_LG.png\" />:GM - Which of these brands of domestic appliances are you aware of?                       265 non-null    float64\n",
      " 10  <img src=\"//surveygizmolibrary.s3.amazonaws.com/library/642038/GM_Dyson.png\" title=\"Dyson\" style=\"width:130px;\" alt=\"GM_Dyson.png\" />:GM - Which of these brands of domestic appliances are you aware of?              266 non-null    float64\n",
      " 11  <img src=\"//surveygizmolibrary.s3.amazonaws.com/library/642038/GM_Neff.png\" title=\"Neff\" style=\"width:130px;\" alt=\"GM_Neff.png\" />:GM - Which of these brands of domestic appliances are you aware of?                 211 non-null    float64\n",
      " 12  <img src=\"//surveygizmolibrary.s3.amazonaws.com/library/642038/GM_Haier.png\" title=\"Haier\" style=\"width:130px;\" alt=\"GM_Haier.png\" />:GM - Which of these brands of domestic appliances are you aware of?              156 non-null    float64\n",
      " 13  <img src=\"//surveygizmolibrary.s3.amazonaws.com/library/642038/GM_Rowenta.png\" title=\"Rowenta\" style=\"width:130px;\" alt=\"GM_Rowenta.png\" />:GM - Which of these brands of domestic appliances are you aware of?        213 non-null    float64\n",
      "dtypes: float64(13), object(1)\n",
      "memory usage: 43.9+ KB\n"
     ]
    }
   ],
   "source": [
    "Germany.info()"
   ]
  },
  {
   "cell_type": "code",
   "execution_count": 9,
   "metadata": {},
   "outputs": [
    {
     "name": "stdout",
     "output_type": "stream",
     "text": [
      "  Response ID  Bosch  \\\n",
      "0     GER2001    1.0   \n",
      "1     GER2002    1.0   \n",
      "2     GER2003    1.0   \n",
      "3     GER2004    NaN   \n",
      "4     GER2005    1.0   \n",
      "\n",
      "   <img src=\"//surveygizmolibrary.s3.amazonaws.com/library/642038/GM_Bosch.png\" title=\"Bosch\" style=\"width:130px;\" alt=\"GM_Bosch.png\" />:GM - Which of these brands of domestic appliances are you aware of?.1  \\\n",
      "0                                                1.0                                                                                                                                                             \n",
      "1                                                1.0                                                                                                                                                             \n",
      "2                                                1.0                                                                                                                                                             \n",
      "3                                                NaN                                                                                                                                                             \n",
      "4                                                1.0                                                                                                                                                             \n",
      "\n",
      "   Miele  Siemens  AEG  Samsung  Bauknecht  Phillips   LG  Dyson  Neff  Haier  \\\n",
      "0    2.0      3.0  4.0      5.0        6.0       7.0  8.0    9.0  10.0    NaN   \n",
      "1    2.0      3.0  4.0      5.0        6.0       7.0  8.0    9.0  10.0   11.0   \n",
      "2    2.0      3.0  4.0      5.0        6.0       7.0  8.0    9.0  10.0   11.0   \n",
      "3    NaN      3.0  NaN      NaN        6.0       NaN  NaN    NaN   NaN    NaN   \n",
      "4    2.0      NaN  4.0      5.0        6.0       7.0  8.0    9.0  10.0    NaN   \n",
      "\n",
      "   Rowenta  \n",
      "0     12.0  \n",
      "1     12.0  \n",
      "2     12.0  \n",
      "3      NaN  \n",
      "4      NaN  \n"
     ]
    }
   ],
   "source": [
    "# Rename specific columns in the DataFrame\n",
    "Germany = Germany.rename(columns={\n",
    "    '<img src=\"//surveygizmolibrary.s3.amazonaws.com/library/642038/GM_Bosch.png\" title=\"Bosch\" style=\"width:130px;\" alt=\"GM_Bosch.png\" />:GM - Which of these brands of domestic appliances are you aware of?': 'Bosch',\n",
    "    '<img src=\"//surveygizmolibrary.s3.amazonaws.com/library/642038/GM_Miele.png\" title=\"Miele\" style=\"width:130px;\" alt=\"GM_Miele.png\" />:GM - Which of these brands of domestic appliances are you aware of?': 'Miele',\n",
    "    '<img src=\"//surveygizmolibrary.s3.amazonaws.com/library/642038/GM_Siemens.png\" title=\"Siemens\" style=\"width:130px;\" alt=\"GM_Siemens.png\" />:GM - Which of these brands of domestic appliances are you aware of?': 'Siemens',\n",
    "    '<img src=\"//surveygizmolibrary.s3.amazonaws.com/library/642038/GM_AEG.png\" title=\"AEG\" style=\"width:130px;\" alt=\"GM_AEG.png\" />:GM - Which of these brands of domestic appliances are you aware of?': 'AEG',\n",
    "    '<img src=\"//surveygizmolibrary.s3.amazonaws.com/library/642038/GM_Samsung.png\" title=\"Samsung\" style=\"width:130px;\" alt=\"GM_Samsung.png\" />:GM - Which of these brands of domestic appliances are you aware of?': 'Samsung',\n",
    "    '<img src=\"//surveygizmolibrary.s3.amazonaws.com/library/642038/GM_Bauknecht.png\" title=\"Bauknecht\" style=\"width:130px;\" alt=\"GM_Bauknecht.png\" />:GM - Which of these brands of domestic appliances are you aware of?': 'Bauknecht',\n",
    "    '<img src=\"//surveygizmolibrary.s3.amazonaws.com/library/642038/GM_Philips.png\" title=\"Philips\" style=\"width:130px;\" alt=\"GM_Philips.png\" />:GM - Which of these brands of domestic appliances are you aware of?': 'Phillips',\n",
    "    '<img src=\"//surveygizmolibrary.s3.amazonaws.com/library/642038/GM_LG.png\" title=\"LG\" style=\"width:130px;\" alt=\"GM_LG.png\" />:GM - Which of these brands of domestic appliances are you aware of?': 'LG',\n",
    "    '<img src=\"//surveygizmolibrary.s3.amazonaws.com/library/642038/GM_Dyson.png\" title=\"Dyson\" style=\"width:130px;\" alt=\"GM_Dyson.png\" />:GM - Which of these brands of domestic appliances are you aware of?': 'Dyson',\n",
    "    '<img src=\"//surveygizmolibrary.s3.amazonaws.com/library/642038/GM_Neff.png\" title=\"Neff\" style=\"width:130px;\" alt=\"GM_Neff.png\" />:GM - Which of these brands of domestic appliances are you aware of?': 'Neff',\n",
    "    '<img src=\"//surveygizmolibrary.s3.amazonaws.com/library/642038/GM_Haier.png\" title=\"Haier\" style=\"width:130px;\" alt=\"GM_Haier.png\" />:GM - Which of these brands of domestic appliances are you aware of?': 'Haier',\n",
    "    '<img src=\"//surveygizmolibrary.s3.amazonaws.com/library/642038/GM_Rowenta.png\" title=\"Rowenta\" style=\"width:130px;\" alt=\"GM_Rowenta.png\" />:GM - Which of these brands of domestic appliances are you aware of?': 'Rowenta'\n",
    "})\n",
    "\n",
    "print(Germany.head())"
   ]
  },
  {
   "cell_type": "code",
   "execution_count": 10,
   "metadata": {},
   "outputs": [
    {
     "name": "stdout",
     "output_type": "stream",
     "text": [
      "  Response ID  Brand  Aware Y/N\n",
      "0     GER2001  Bosch          1\n",
      "1     GER2002  Bosch          1\n",
      "2     GER2003  Bosch          1\n",
      "3     GER2004  Bosch          0\n",
      "4     GER2005  Bosch          1\n"
     ]
    }
   ],
   "source": [
    "# Unpivot the DataFrame, renaming 'Variable' to 'Brand'\n",
    "germany_melted = Germany.melt(id_vars=['Response ID'], var_name='Brand', value_name='Aware Y/N')\n",
    "\n",
    "# Replace null values in the 'Aware Y/N' column with \"None of these\"\n",
    "# germany_melted['Aware Y/N'] = germany_melted['Aware Y/N'].fillna(\"None of these\")\n",
    "germany_melted['Aware Y/N'] = germany_melted['Aware Y/N'].fillna(0).astype(int)\n",
    "print(germany_melted.head())"
   ]
  },
  {
   "cell_type": "code",
   "execution_count": 11,
   "metadata": {},
   "outputs": [
    {
     "name": "stdout",
     "output_type": "stream",
     "text": [
      "Aware Y/N\n",
      "0     1544\n",
      "1      678\n",
      "2      322\n",
      "3      319\n",
      "4      314\n",
      "7      310\n",
      "5      309\n",
      "6      293\n",
      "9      266\n",
      "8      265\n",
      "12     213\n",
      "10     211\n",
      "11     156\n",
      "Name: count, dtype: int64\n"
     ]
    }
   ],
   "source": [
    "counts = germany_melted['Aware Y/N'].value_counts()\n",
    "print(counts)"
   ]
  },
  {
   "cell_type": "code",
   "execution_count": 12,
   "metadata": {},
   "outputs": [
    {
     "name": "stdout",
     "output_type": "stream",
     "text": [
      "Count of blank values in 'Aware Y/N': 0\n"
     ]
    }
   ],
   "source": [
    "# Count blank (empty or NaN) values in 'Aware Y/N'\n",
    "blank_count = germany_melted[germany_melted['Aware Y/N'].isna() | (germany_melted['Aware Y/N'] == '')].shape[0]\n",
    "print(\"Count of blank values in 'Aware Y/N':\", blank_count)"
   ]
  },
  {
   "cell_type": "markdown",
   "metadata": {},
   "source": [
    "### Italy"
   ]
  },
  {
   "cell_type": "code",
   "execution_count": 13,
   "metadata": {},
   "outputs": [
    {
     "name": "stdout",
     "output_type": "stream",
     "text": [
      "<class 'pandas.core.frame.DataFrame'>\n",
      "RangeIndex: 400 entries, 0 to 399\n",
      "Data columns (total 13 columns):\n",
      " #   Column                                                                                                                                                                                                                    Non-Null Count  Dtype  \n",
      "---  ------                                                                                                                                                                                                                    --------------  -----  \n",
      " 0   Response ID                                                                                                                                                                                                               400 non-null    object \n",
      " 1   <img src=\"//surveygizmolibrary.s3.amazonaws.com/library/642038/IT_Samsung.png\" title=\"Samsung\" style=\"width:130px;\" alt=\"IT_Samsung.png\" />:IT - Which of these brands of domestic appliances are you aware of?           339 non-null    float64\n",
      " 2   <img src=\"//surveygizmolibrary.s3.amazonaws.com/library/642038/IT_Bosch.png\" title=\"Bosch\" style=\"width:130px;\" alt=\"IT_Bosch.png\" />:IT - Which of these brands of domestic appliances are you aware of?                 305 non-null    float64\n",
      " 3   <img src=\"//surveygizmolibrary.s3.amazonaws.com/library/642038/IT_Whirlpool.png\" title=\"Whirlpool\" style=\"width:130px;\" alt=\"IT_Whirlpool.png\" />:IT - Which of these brands of domestic appliances are you aware of?     308 non-null    float64\n",
      " 4   <img src=\"//surveygizmolibrary.s3.amazonaws.com/library/642038/IT_LG.png\" title=\"LG\" style=\"width:130px;\" alt=\"IT_LG.png\" />:IT - Which of these brands of domestic appliances are you aware of?                          329 non-null    float64\n",
      " 5   <img src=\"//surveygizmolibrary.s3.amazonaws.com/library/642038/IT_Dyson.png\" title=\"Dyson\" style=\"width:130px;\" alt=\"IT_Dyson.png\" />:IT - Which of these brands of domestic appliances are you aware of?                 295 non-null    float64\n",
      " 6   <img src=\"//surveygizmolibrary.s3.amazonaws.com/library/642038/IT_Miele.png\" title=\"Miele\" style=\"width:130px;\" alt=\"IT_Miele.png\" />:IT - Which of these brands of domestic appliances are you aware of?                 279 non-null    float64\n",
      " 7   <img src=\"//surveygizmolibrary.s3.amazonaws.com/library/642038/IT_Electrolux.png\" title=\"Electrolux\" style=\"width:130px;\" alt=\"IT_Electrolux.png\" />:IT - Which of these brands of domestic appliances are you aware of?  278 non-null    float64\n",
      " 8   <img src=\"//surveygizmolibrary.s3.amazonaws.com/library/642038/IT_Hotpoint.png\" title=\"Hotpoint\" style=\"width:130px;\" alt=\"IT_Hotpoint.png\" />:IT - Which of these brands of domestic appliances are you aware of?        238 non-null    float64\n",
      " 9   <img src=\"//surveygizmolibrary.s3.amazonaws.com/library/642038/IT_Beko.png\" title=\"Beko\" style=\"width:130px;\" alt=\"IT_Beko.png\" />:IT - Which of these brands of domestic appliances are you aware of?                    245 non-null    float64\n",
      " 10  <img src=\"//surveygizmolibrary.s3.amazonaws.com/library/642038/IT_AEG.png\" title=\"AEG\" style=\"width:130px;\" alt=\"IT_AEG.png\" />:IT - Which of these brands of domestic appliances are you aware of?                       193 non-null    float64\n",
      " 11  <img src=\"//surveygizmolibrary.s3.amazonaws.com/library/642038/IT_Haier.png\" title=\"Haier\" style=\"width:130px;\" alt=\"IT_Haier.png\" />:IT - Which of these brands of domestic appliances are you aware of?                 170 non-null    float64\n",
      " 12  <img src=\"//surveygizmolibrary.s3.amazonaws.com/library/642038/IT_Siemens.png\" title=\"Siemens\" style=\"width:130px;\" alt=\"IT_Siemens.png\" />:IT - Which of these brands of domestic appliances are you aware of?           224 non-null    float64\n",
      "dtypes: float64(12), object(1)\n",
      "memory usage: 40.8+ KB\n"
     ]
    }
   ],
   "source": [
    "Italy.info()"
   ]
  },
  {
   "cell_type": "code",
   "execution_count": 14,
   "metadata": {},
   "outputs": [
    {
     "name": "stdout",
     "output_type": "stream",
     "text": [
      "  Response ID  Samsung  Bosch  Whirlpool   LG  Dyson  Miele  Electrolux  \\\n",
      "0     ITA2001      1.0    2.0        3.0  4.0    5.0    6.0         7.0   \n",
      "1     ITA2002      1.0    2.0        3.0  4.0    5.0    6.0         7.0   \n",
      "2     ITA2003      1.0    2.0        NaN  4.0    5.0    6.0         NaN   \n",
      "3     ITA2004      1.0    2.0        3.0  4.0    5.0    6.0         7.0   \n",
      "4     ITA2005      1.0    2.0        3.0  4.0    5.0    6.0         7.0   \n",
      "\n",
      "   Hotpoint  Beko   AEG  Haier  Siemens  \n",
      "0       8.0   9.0  10.0   11.0     12.0  \n",
      "1       8.0   9.0  10.0   11.0     12.0  \n",
      "2       8.0   9.0   NaN   11.0      NaN  \n",
      "3       8.0   9.0  10.0   11.0     12.0  \n",
      "4       8.0   9.0  10.0   11.0     12.0  \n"
     ]
    }
   ],
   "source": [
    "# Rename specific columns in the DataFrame\n",
    "Italy = Italy.rename(columns={\n",
    "    '<img src=\"//surveygizmolibrary.s3.amazonaws.com/library/642038/IT_Samsung.png\" title=\"Samsung\" style=\"width:130px;\" alt=\"IT_Samsung.png\" />:IT - Which of these brands of domestic appliances are you aware of?': 'Samsung',\n",
    "    '<img src=\"//surveygizmolibrary.s3.amazonaws.com/library/642038/IT_Bosch.png\" title=\"Bosch\" style=\"width:130px;\" alt=\"IT_Bosch.png\" />:IT - Which of these brands of domestic appliances are you aware of?': 'Bosch',\n",
    "    '<img src=\"//surveygizmolibrary.s3.amazonaws.com/library/642038/IT_Whirlpool.png\" title=\"Whirlpool\" style=\"width:130px;\" alt=\"IT_Whirlpool.png\" />:IT - Which of these brands of domestic appliances are you aware of?': 'Whirlpool',\n",
    "    '<img src=\"//surveygizmolibrary.s3.amazonaws.com/library/642038/IT_LG.png\" title=\"LG\" style=\"width:130px;\" alt=\"IT_LG.png\" />:IT - Which of these brands of domestic appliances are you aware of?': 'LG',\n",
    "    '<img src=\"//surveygizmolibrary.s3.amazonaws.com/library/642038/IT_Dyson.png\" title=\"Dyson\" style=\"width:130px;\" alt=\"IT_Dyson.png\" />:IT - Which of these brands of domestic appliances are you aware of?': 'Dyson',\n",
    "    '<img src=\"//surveygizmolibrary.s3.amazonaws.com/library/642038/IT_Miele.png\" title=\"Miele\" style=\"width:130px;\" alt=\"IT_Miele.png\" />:IT - Which of these brands of domestic appliances are you aware of?': 'Miele',\n",
    "    '<img src=\"//surveygizmolibrary.s3.amazonaws.com/library/642038/IT_Electrolux.png\" title=\"Electrolux\" style=\"width:130px;\" alt=\"IT_Electrolux.png\" />:IT - Which of these brands of domestic appliances are you aware of?': 'Electrolux',\n",
    "    '<img src=\"//surveygizmolibrary.s3.amazonaws.com/library/642038/IT_Hotpoint.png\" title=\"Hotpoint\" style=\"width:130px;\" alt=\"IT_Hotpoint.png\" />:IT - Which of these brands of domestic appliances are you aware of?': 'Hotpoint',\n",
    "    '<img src=\"//surveygizmolibrary.s3.amazonaws.com/library/642038/IT_Beko.png\" title=\"Beko\" style=\"width:130px;\" alt=\"IT_Beko.png\" />:IT - Which of these brands of domestic appliances are you aware of?': 'Beko',\n",
    "    '<img src=\"//surveygizmolibrary.s3.amazonaws.com/library/642038/IT_AEG.png\" title=\"AEG\" style=\"width:130px;\" alt=\"IT_AEG.png\" />:IT - Which of these brands of domestic appliances are you aware of?': 'AEG',\n",
    "    '<img src=\"//surveygizmolibrary.s3.amazonaws.com/library/642038/IT_Haier.png\" title=\"Haier\" style=\"width:130px;\" alt=\"IT_Haier.png\" />:IT - Which of these brands of domestic appliances are you aware of?': 'Haier',\n",
    "    '<img src=\"//surveygizmolibrary.s3.amazonaws.com/library/642038/IT_Siemens.png\" title=\"Siemens\" style=\"width:130px;\" alt=\"IT_Siemens.png\" />:IT - Which of these brands of domestic appliances are you aware of?': 'Siemens'\n",
    "})\n",
    "\n",
    "print(Italy.head())"
   ]
  },
  {
   "cell_type": "code",
   "execution_count": 15,
   "metadata": {},
   "outputs": [
    {
     "name": "stdout",
     "output_type": "stream",
     "text": [
      "  Response ID    Brand  Aware Y/N\n",
      "0     ITA2001  Samsung          1\n",
      "1     ITA2002  Samsung          1\n",
      "2     ITA2003  Samsung          1\n",
      "3     ITA2004  Samsung          1\n",
      "4     ITA2005  Samsung          1\n"
     ]
    }
   ],
   "source": [
    "# Unpivot the DataFrame, renaming 'Variable' to 'Brand'\n",
    "italy_melted = Italy.melt(id_vars=['Response ID'], var_name='Brand', value_name='Aware Y/N')\n",
    "\n",
    "# Replace null values in the 'Aware Y/N' column with \"None of these\"\n",
    "# italy_melted['Aware Y/N'] = italy_melted['Aware Y/N'].fillna(\"None of these\")\n",
    "italy_melted['Aware Y/N'] = italy_melted['Aware Y/N'].fillna(0).astype(int)\n",
    "print(italy_melted.head())"
   ]
  },
  {
   "cell_type": "code",
   "execution_count": 16,
   "metadata": {},
   "outputs": [
    {
     "name": "stdout",
     "output_type": "stream",
     "text": [
      "Aware Y/N\n",
      "0     1597\n",
      "1      339\n",
      "4      329\n",
      "3      308\n",
      "2      305\n",
      "5      295\n",
      "6      279\n",
      "7      278\n",
      "9      245\n",
      "8      238\n",
      "12     224\n",
      "10     193\n",
      "11     170\n",
      "Name: count, dtype: int64\n"
     ]
    }
   ],
   "source": [
    "appliances_value_counts = italy_melted['Aware Y/N'].value_counts()\n",
    "print(appliances_value_counts)"
   ]
  },
  {
   "cell_type": "markdown",
   "metadata": {},
   "source": [
    "### Poland"
   ]
  },
  {
   "cell_type": "code",
   "execution_count": 17,
   "metadata": {},
   "outputs": [
    {
     "name": "stdout",
     "output_type": "stream",
     "text": [
      "<class 'pandas.core.frame.DataFrame'>\n",
      "RangeIndex: 400 entries, 0 to 399\n",
      "Data columns (total 13 columns):\n",
      " #   Column                                                                                                                                                                                                                    Non-Null Count  Dtype  \n",
      "---  ------                                                                                                                                                                                                                    --------------  -----  \n",
      " 0   Response ID                                                                                                                                                                                                               400 non-null    object \n",
      " 1   <img src=\"//surveygizmolibrary.s3.amazonaws.com/library/642038/PO_Samsung.png\" title=\"Samsung\" style=\"width:130px;\" alt=\"PO_Samsung.png\" />:PO - Which of these brands of domestic appliances are you aware of?           335 non-null    float64\n",
      " 2   <img src=\"//surveygizmolibrary.s3.amazonaws.com/library/642038/PO_Bosch.png\" title=\"Bosch\" style=\"width:130px;\" alt=\"PO_Bosch.png\" />:PO - Which of these brands of domestic appliances are you aware of?                 332 non-null    float64\n",
      " 3   <img src=\"//surveygizmolibrary.s3.amazonaws.com/library/642038/PO_Electrolux.png\" title=\"Electrolux\" style=\"width:130px;\" alt=\"PO_Electrolux.png\" />:PO - Which of these brands of domestic appliances are you aware of?  287 non-null    float64\n",
      " 4   <img src=\"//surveygizmolibrary.s3.amazonaws.com/library/642038/PO_Beko.png\" title=\"Beko\" style=\"width:130px;\" alt=\"PO_Beko.png\" />:PO - Which of these brands of domestic appliances are you aware of?                    318 non-null    float64\n",
      " 5   <img src=\"//surveygizmolibrary.s3.amazonaws.com/library/642038/PO_Amica.png\" title=\"Amica\" style=\"width:130px;\" alt=\"PO_Amica.png\" />:PO - Which of these brands of domestic appliances are you aware of?                 302 non-null    float64\n",
      " 6   <img src=\"//surveygizmolibrary.s3.amazonaws.com/library/642038/PO_Philips.png\" title=\"Philips\" style=\"width:130px;\" alt=\"PO_Philips.png\" />:PO - Which of these brands of domestic appliances are you aware of?           301 non-null    float64\n",
      " 7   <img src=\"//surveygizmolibrary.s3.amazonaws.com/library/642038/PO_Whirlpool.png\" title=\"Whirlpool\" style=\"width:130px;\" alt=\"PO_Whirlpool.png\" />:PO - Which of these brands of domestic appliances are you aware of?     288 non-null    float64\n",
      " 8   <img src=\"//surveygizmolibrary.s3.amazonaws.com/library/642038/PO_LG.png\" title=\"LG\" style=\"width:130px;\" alt=\"PO_LG.png\" />:PO - Which of these brands of domestic appliances are you aware of?                          270 non-null    float64\n",
      " 9   <img src=\"//surveygizmolibrary.s3.amazonaws.com/library/642038/PO_Dyson.png\" title=\"Dyson\" style=\"width:130px;\" alt=\"PO_Dyson.png\" />:PO - Which of these brands of domestic appliances are you aware of?                 211 non-null    float64\n",
      " 10  <img src=\"//surveygizmolibrary.s3.amazonaws.com/library/642038/PO_Haier.png\" title=\"Haier\" style=\"width:130px;\" alt=\"PO_Haier.png\" />:PO - Which of these brands of domestic appliances are you aware of?                 174 non-null    float64\n",
      " 11  <img src=\"//surveygizmolibrary.s3.amazonaws.com/library/642038/PO_Miele.png\" title=\"Miele\" style=\"width:130px;\" alt=\"PO_Miele.png\" />:PO - Which of these brands of domestic appliances are you aware of?                 185 non-null    float64\n",
      " 12  <img src=\"//surveygizmolibrary.s3.amazonaws.com/library/642038/PO_AEG.png\" title=\"AEG\" style=\"width:130px;\" alt=\"PO_AEG.png\" />:PO - Which of these brands of domestic appliances are you aware of?                       167 non-null    float64\n",
      "dtypes: float64(12), object(1)\n",
      "memory usage: 40.8+ KB\n"
     ]
    }
   ],
   "source": [
    "Poland.info()"
   ]
  },
  {
   "cell_type": "code",
   "execution_count": 18,
   "metadata": {},
   "outputs": [
    {
     "name": "stdout",
     "output_type": "stream",
     "text": [
      "  Response ID  Samsung  Bosch  Electrolux  Beko  Amica  Phillips  Whirlpool  \\\n",
      "0     POL2001      1.0    2.0         3.0   4.0    5.0       6.0        7.0   \n",
      "1     POL2002      1.0    2.0         3.0   4.0    5.0       6.0        7.0   \n",
      "2     POL2003      1.0    2.0         3.0   4.0    5.0       NaN        7.0   \n",
      "3     POL2004      1.0    2.0         3.0   4.0    5.0       NaN        7.0   \n",
      "4     POL2005      1.0    NaN         NaN   4.0    NaN       NaN        NaN   \n",
      "\n",
      "    LG  Dyson  Haier  Miele   AEG  \n",
      "0  8.0    9.0    NaN    NaN   NaN  \n",
      "1  8.0    9.0   10.0   11.0  12.0  \n",
      "2  8.0    NaN    NaN    NaN   NaN  \n",
      "3  8.0    9.0    NaN    NaN  12.0  \n",
      "4  NaN    NaN    NaN   11.0   NaN  \n"
     ]
    }
   ],
   "source": [
    "# Rename specific columns in the DataFrame\n",
    "Poland = Poland.rename(columns={\n",
    "    '<img src=\"//surveygizmolibrary.s3.amazonaws.com/library/642038/PO_Samsung.png\" title=\"Samsung\" style=\"width:130px;\" alt=\"PO_Samsung.png\" />:PO - Which of these brands of domestic appliances are you aware of?': 'Samsung',\n",
    "    '<img src=\"//surveygizmolibrary.s3.amazonaws.com/library/642038/PO_Bosch.png\" title=\"Bosch\" style=\"width:130px;\" alt=\"PO_Bosch.png\" />:PO - Which of these brands of domestic appliances are you aware of?': 'Bosch',\n",
    "    '<img src=\"//surveygizmolibrary.s3.amazonaws.com/library/642038/PO_Electrolux.png\" title=\"Electrolux\" style=\"width:130px;\" alt=\"PO_Electrolux.png\" />:PO - Which of these brands of domestic appliances are you aware of?': 'Electrolux',\n",
    "    '<img src=\"//surveygizmolibrary.s3.amazonaws.com/library/642038/PO_Beko.png\" title=\"Beko\" style=\"width:130px;\" alt=\"PO_Beko.png\" />:PO - Which of these brands of domestic appliances are you aware of?': 'Beko',\n",
    "    '<img src=\"//surveygizmolibrary.s3.amazonaws.com/library/642038/PO_Amica.png\" title=\"Amica\" style=\"width:130px;\" alt=\"PO_Amica.png\" />:PO - Which of these brands of domestic appliances are you aware of?': 'Amica',\n",
    "    '<img src=\"//surveygizmolibrary.s3.amazonaws.com/library/642038/PO_Philips.png\" title=\"Philips\" style=\"width:130px;\" alt=\"PO_Philips.png\" />:PO - Which of these brands of domestic appliances are you aware of?': 'Phillips',\n",
    "    '<img src=\"//surveygizmolibrary.s3.amazonaws.com/library/642038/PO_Whirlpool.png\" title=\"Whirlpool\" style=\"width:130px;\" alt=\"PO_Whirlpool.png\" />:PO - Which of these brands of domestic appliances are you aware of?': 'Whirlpool',\n",
    "    '<img src=\"//surveygizmolibrary.s3.amazonaws.com/library/642038/PO_LG.png\" title=\"LG\" style=\"width:130px;\" alt=\"PO_LG.png\" />:PO - Which of these brands of domestic appliances are you aware of?': 'LG',\n",
    "    '<img src=\"//surveygizmolibrary.s3.amazonaws.com/library/642038/PO_Dyson.png\" title=\"Dyson\" style=\"width:130px;\" alt=\"PO_Dyson.png\" />:PO - Which of these brands of domestic appliances are you aware of?': 'Dyson',\n",
    "    '<img src=\"//surveygizmolibrary.s3.amazonaws.com/library/642038/PO_Haier.png\" title=\"Haier\" style=\"width:130px;\" alt=\"PO_Haier.png\" />:PO - Which of these brands of domestic appliances are you aware of?': 'Haier',\n",
    "    '<img src=\"//surveygizmolibrary.s3.amazonaws.com/library/642038/PO_Miele.png\" title=\"Miele\" style=\"width:130px;\" alt=\"PO_Miele.png\" />:PO - Which of these brands of domestic appliances are you aware of?': 'Miele',\n",
    "    '<img src=\"//surveygizmolibrary.s3.amazonaws.com/library/642038/PO_AEG.png\" title=\"AEG\" style=\"width:130px;\" alt=\"PO_AEG.png\" />:PO - Which of these brands of domestic appliances are you aware of?': 'AEG'\n",
    "})\n",
    "\n",
    "print(Poland.head())"
   ]
  },
  {
   "cell_type": "code",
   "execution_count": 19,
   "metadata": {},
   "outputs": [
    {
     "name": "stdout",
     "output_type": "stream",
     "text": [
      "  Response ID    Brand  Aware Y/N\n",
      "0     POL2001  Samsung          1\n",
      "1     POL2002  Samsung          1\n",
      "2     POL2003  Samsung          1\n",
      "3     POL2004  Samsung          1\n",
      "4     POL2005  Samsung          1\n"
     ]
    }
   ],
   "source": [
    "# Unpivot the DataFrame, renaming 'Variable' to 'Brand'\n",
    "poland_melted = Poland.melt(id_vars=['Response ID'], var_name='Brand', value_name='Aware Y/N')\n",
    "\n",
    "# Replace null values in the 'Aware Y/N' column with \"None of these\"\n",
    "# poland_melted['Aware Y/N'] = poland_melted['Aware Y/N'].fillna(\"None of these\")\n",
    "poland_melted['Aware Y/N'] = poland_melted['Aware Y/N'].fillna(0).astype(int)\n",
    "print(poland_melted.head())"
   ]
  },
  {
   "cell_type": "code",
   "execution_count": 20,
   "metadata": {},
   "outputs": [
    {
     "name": "stdout",
     "output_type": "stream",
     "text": [
      "Aware Y/N\n",
      "0     1630\n",
      "1      335\n",
      "2      332\n",
      "4      318\n",
      "5      302\n",
      "6      301\n",
      "7      288\n",
      "3      287\n",
      "8      270\n",
      "9      211\n",
      "11     185\n",
      "10     174\n",
      "12     167\n",
      "Name: count, dtype: int64\n"
     ]
    }
   ],
   "source": [
    "appliances_value_counts = poland_melted['Aware Y/N'].value_counts()\n",
    "print(appliances_value_counts)"
   ]
  },
  {
   "cell_type": "markdown",
   "metadata": {},
   "source": [
    "### Switzerland"
   ]
  },
  {
   "cell_type": "code",
   "execution_count": 21,
   "metadata": {},
   "outputs": [
    {
     "name": "stdout",
     "output_type": "stream",
     "text": [
      "<class 'pandas.core.frame.DataFrame'>\n",
      "RangeIndex: 400 entries, 0 to 399\n",
      "Data columns (total 13 columns):\n",
      " #   Column                                                                                                                                                                                                                    Non-Null Count  Dtype  \n",
      "---  ------                                                                                                                                                                                                                    --------------  -----  \n",
      " 0   Response ID                                                                                                                                                                                                               400 non-null    object \n",
      " 1   <img src=\"//surveygizmolibrary.s3.amazonaws.com/library/642038/SZ_VZug.png\" title=\"V Zug\" style=\"height:100px;\" alt=\"SZ_VZug.png\" />:SZ - Which of these brands of domestic appliances are you aware of?                  309 non-null    float64\n",
      " 2   <img src=\"//surveygizmolibrary.s3.amazonaws.com/library/642038/SZ_Electrolux.png\" title=\"Electrolux\" style=\"width:130px;\" alt=\"SZ_Electrolux.png\" />:SZ - Which of these brands of domestic appliances are you aware of?  311 non-null    float64\n",
      " 3   <img src=\"//surveygizmolibrary.s3.amazonaws.com/library/642038/SZ_Miele.png\" title=\"Electrolux\" style=\"width:130px;\" alt=\"SZ_Miele.png\" />:SZ - Which of these brands of domestic appliances are you aware of?            312 non-null    float64\n",
      " 4   <img src=\"//surveygizmolibrary.s3.amazonaws.com/library/642038/SZ_Dyson.png\" title=\"Dyson\" style=\"width:130px;\" alt=\"SZ_Dyson.png\" />:SZ - Which of these brands of domestic appliances are you aware of?                 285 non-null    float64\n",
      " 5   <img src=\"//surveygizmolibrary.s3.amazonaws.com/library/642038/SZ_Bosch.png\" title=\"Bosch\" style=\"width:130px;\" alt=\"SZ_Bosch.png\" />:SZ - Which of these brands of domestic appliances are you aware of?                 310 non-null    float64\n",
      " 6   <img src=\"//surveygizmolibrary.s3.amazonaws.com/library/642038/SZ_Samsung.png\" title=\"Samsung\" style=\"width:130px;\" alt=\"SZ_Samsung.png\" />:SZ - Which of these brands of domestic appliances are you aware of?           288 non-null    float64\n",
      " 7   <img src=\"//surveygizmolibrary.s3.amazonaws.com/library/642038/SZ_Siemens.png\" title=\"Siemens\" style=\"width:130px;\" alt=\"SZ_Siemens.png\" />:SZ - Which of these brands of domestic appliances are you aware of?           286 non-null    float64\n",
      " 8   <img src=\"//surveygizmolibrary.s3.amazonaws.com/library/642038/SZ_Philips.png\" title=\"Philips\" style=\"width:130px;\" alt=\"SZ_Philips.png\" />:SZ - Which of these brands of domestic appliances are you aware of?           269 non-null    float64\n",
      " 9   <img src=\"//surveygizmolibrary.s3.amazonaws.com/library/642038/SZ_Bauknecht.png\" title=\"Bauknecht\" style=\"width:130px;\" alt=\"SZ_Bauknecht.png\" />:SZ - Which of these brands of domestic appliances are you aware of?     223 non-null    float64\n",
      " 10  <img src=\"//surveygizmolibrary.s3.amazonaws.com/library/642038/SZ_AEG.png\" title=\"AEG\" style=\"width:130px;\" alt=\"SZ_AEG.png\" />:SZ - Which of these brands of domestic appliances are you aware of?                       201 non-null    float64\n",
      " 11  <img src=\"//surveygizmolibrary.s3.amazonaws.com/library/642038/SZ_Liebherr.png\" title=\"Liebherr\" style=\"width:130px;\" alt=\"SZ_Liebherr.png\" />:SZ - Which of these brands of domestic appliances are you aware of?        185 non-null    float64\n",
      " 12  <img src=\"//surveygizmolibrary.s3.amazonaws.com/library/642038/SZ_Schulthess.png\" title=\"Schulthess\" style=\"width:130px;\" alt=\"SZ_Schulthess.png\" />:SZ - Which of these brands of domestic appliances are you aware of?  165 non-null    float64\n",
      "dtypes: float64(12), object(1)\n",
      "memory usage: 40.8+ KB\n"
     ]
    }
   ],
   "source": [
    "Switzerland.info()"
   ]
  },
  {
   "cell_type": "code",
   "execution_count": 22,
   "metadata": {},
   "outputs": [
    {
     "name": "stdout",
     "output_type": "stream",
     "text": [
      "  Response ID  V Zug  Electrolux  Miele  Dyson  Bosch  Samsung  Siemens  \\\n",
      "0    SWIT2001    1.0         2.0    3.0    4.0    5.0      NaN      7.0   \n",
      "1    SWIT2002    1.0         NaN    NaN    NaN    5.0      6.0      NaN   \n",
      "2    SWIT2003    NaN         NaN    3.0    NaN    NaN      6.0      NaN   \n",
      "3    SWIT2004    NaN         2.0    NaN    4.0    5.0      NaN      NaN   \n",
      "4    SWIT2005    NaN         NaN    NaN    NaN    5.0      6.0      7.0   \n",
      "\n",
      "   Phillips  Bauknecht   AEG  Liebherr  Schulthess  \n",
      "0       8.0        9.0   NaN      11.0         NaN  \n",
      "1       NaN        9.0  10.0      11.0         NaN  \n",
      "2       8.0        NaN   NaN       NaN         NaN  \n",
      "3       NaN        NaN   NaN       NaN         NaN  \n",
      "4       NaN        NaN  10.0       NaN         NaN  \n"
     ]
    }
   ],
   "source": [
    "# Rename specific columns in the DataFrame\n",
    "Switzerland = Switzerland.rename(columns={\n",
    "    '<img src=\"//surveygizmolibrary.s3.amazonaws.com/library/642038/SZ_VZug.png\" title=\"V Zug\" style=\"height:100px;\" alt=\"SZ_VZug.png\" />:SZ - Which of these brands of domestic appliances are you aware of?': 'V Zug',\n",
    "    '<img src=\"//surveygizmolibrary.s3.amazonaws.com/library/642038/SZ_Electrolux.png\" title=\"Electrolux\" style=\"width:130px;\" alt=\"SZ_Electrolux.png\" />:SZ - Which of these brands of domestic appliances are you aware of?': 'Electrolux',\n",
    "    '<img src=\"//surveygizmolibrary.s3.amazonaws.com/library/642038/SZ_Miele.png\" title=\"Electrolux\" style=\"width:130px;\" alt=\"SZ_Miele.png\" />:SZ - Which of these brands of domestic appliances are you aware of?': 'Miele',\n",
    "    '<img src=\"//surveygizmolibrary.s3.amazonaws.com/library/642038/SZ_Dyson.png\" title=\"Dyson\" style=\"width:130px;\" alt=\"SZ_Dyson.png\" />:SZ - Which of these brands of domestic appliances are you aware of?': 'Dyson',\n",
    "    '<img src=\"//surveygizmolibrary.s3.amazonaws.com/library/642038/SZ_Bosch.png\" title=\"Bosch\" style=\"width:130px;\" alt=\"SZ_Bosch.png\" />:SZ - Which of these brands of domestic appliances are you aware of?': 'Bosch',\n",
    "    '<img src=\"//surveygizmolibrary.s3.amazonaws.com/library/642038/SZ_Samsung.png\" title=\"Samsung\" style=\"width:130px;\" alt=\"SZ_Samsung.png\" />:SZ - Which of these brands of domestic appliances are you aware of?': 'Samsung',\n",
    "    '<img src=\"//surveygizmolibrary.s3.amazonaws.com/library/642038/SZ_Siemens.png\" title=\"Siemens\" style=\"width:130px;\" alt=\"SZ_Siemens.png\" />:SZ - Which of these brands of domestic appliances are you aware of?': 'Siemens',\n",
    "    '<img src=\"//surveygizmolibrary.s3.amazonaws.com/library/642038/SZ_Philips.png\" title=\"Philips\" style=\"width:130px;\" alt=\"SZ_Philips.png\" />:SZ - Which of these brands of domestic appliances are you aware of?': 'Phillips',\n",
    "    '<img src=\"//surveygizmolibrary.s3.amazonaws.com/library/642038/SZ_Bauknecht.png\" title=\"Bauknecht\" style=\"width:130px;\" alt=\"SZ_Bauknecht.png\" />:SZ - Which of these brands of domestic appliances are you aware of?': 'Bauknecht',\n",
    "    '<img src=\"//surveygizmolibrary.s3.amazonaws.com/library/642038/SZ_AEG.png\" title=\"AEG\" style=\"width:130px;\" alt=\"SZ_AEG.png\" />:SZ - Which of these brands of domestic appliances are you aware of?': 'AEG',\n",
    "    '<img src=\"//surveygizmolibrary.s3.amazonaws.com/library/642038/SZ_Liebherr.png\" title=\"Liebherr\" style=\"width:130px;\" alt=\"SZ_Liebherr.png\" />:SZ - Which of these brands of domestic appliances are you aware of?': 'Liebherr',\n",
    "    '<img src=\"//surveygizmolibrary.s3.amazonaws.com/library/642038/SZ_Schulthess.png\" title=\"Schulthess\" style=\"width:130px;\" alt=\"SZ_Schulthess.png\" />:SZ - Which of these brands of domestic appliances are you aware of?': 'Schulthess'\n",
    "})\n",
    "\n",
    "print(Switzerland.head())"
   ]
  },
  {
   "cell_type": "code",
   "execution_count": 23,
   "metadata": {},
   "outputs": [
    {
     "name": "stdout",
     "output_type": "stream",
     "text": [
      "  Response ID  Brand  Aware Y/N\n",
      "0    SWIT2001  V Zug          1\n",
      "1    SWIT2002  V Zug          1\n",
      "2    SWIT2003  V Zug          0\n",
      "3    SWIT2004  V Zug          0\n",
      "4    SWIT2005  V Zug          0\n"
     ]
    }
   ],
   "source": [
    "# Unpivot the DataFrame, renaming 'Variable' to 'Brand'\n",
    "switzerland_melted = Switzerland.melt(id_vars=['Response ID'], var_name='Brand', value_name='Aware Y/N')\n",
    "\n",
    "# Replace null values in the 'Aware Y/N' column with \"None of these\"\n",
    "# switzerland_melted['Aware Y/N'] = switzerland_melted['Aware Y/N'].fillna(\"None of these\")\n",
    "switzerland_melted['Aware Y/N'] = switzerland_melted['Aware Y/N'].fillna(0).astype(int)\n",
    "print(switzerland_melted.head())"
   ]
  },
  {
   "cell_type": "code",
   "execution_count": 24,
   "metadata": {},
   "outputs": [
    {
     "name": "stdout",
     "output_type": "stream",
     "text": [
      "Aware Y/N\n",
      "0     1656\n",
      "3      312\n",
      "2      311\n",
      "5      310\n",
      "1      309\n",
      "6      288\n",
      "7      286\n",
      "4      285\n",
      "8      269\n",
      "9      223\n",
      "10     201\n",
      "11     185\n",
      "12     165\n",
      "Name: count, dtype: int64\n"
     ]
    }
   ],
   "source": [
    "appliances_value_counts = switzerland_melted['Aware Y/N'].value_counts()\n",
    "print(appliances_value_counts)"
   ]
  },
  {
   "cell_type": "markdown",
   "metadata": {},
   "source": [
    "### Sweden"
   ]
  },
  {
   "cell_type": "code",
   "execution_count": 25,
   "metadata": {},
   "outputs": [
    {
     "name": "stdout",
     "output_type": "stream",
     "text": [
      "<class 'pandas.core.frame.DataFrame'>\n",
      "RangeIndex: 400 entries, 0 to 399\n",
      "Data columns (total 13 columns):\n",
      " #   Column                                                                                                                                                                                                                    Non-Null Count  Dtype  \n",
      "---  ------                                                                                                                                                                                                                    --------------  -----  \n",
      " 0   Response ID                                                                                                                                                                                                               400 non-null    object \n",
      " 1   <img src=\"//surveygizmolibrary.s3.amazonaws.com/library/642038/SW_Electrolux.png\" title=\"Electrolux\" style=\"width:130px;\" alt=\"SW_Electrolux.png\" />:SW - Which of these brands of domestic appliances are you aware of?  350 non-null    float64\n",
      " 2   <img src=\"//surveygizmolibrary.s3.amazonaws.com/library/642038/SW_Bosch.png\" title=\"Bosch\" style=\"width:130px;\" alt=\"SW_Bosch.png\" />:SW - Which of these brands of domestic appliances are you aware of?                 342 non-null    float64\n",
      " 3   <img src=\"//surveygizmolibrary.s3.amazonaws.com/library/642038/SW_Samsung.png\" title=\"Samsung\" style=\"width:130px;\" alt=\"SW_Samsung.png\" />:SW - Which of these brands of domestic appliances are you aware of?           326 non-null    float64\n",
      " 4   <img src=\"//surveygizmolibrary.s3.amazonaws.com/library/642038/SW_Miele.png\" title=\"Miele\" style=\"width:130px;\" alt=\"SW_Miele.png\" />:SW - Which of these brands of domestic appliances are you aware of?                 271 non-null    float64\n",
      " 5   <img src=\"//surveygizmolibrary.s3.amazonaws.com/library/642038/SW_Philips.png\" title=\"Philips\" style=\"width:130px;\" alt=\"SW_Philips.png\" />:SW - Which of these brands of domestic appliances are you aware of?           323 non-null    float64\n",
      " 6   <img src=\"//surveygizmolibrary.s3.amazonaws.com/library/642038/SW_Siemens.png\" title=\"Siemens\" style=\"width:130px;\" alt=\"SW_Siemens.png\" />:SW - Which of these brands of domestic appliances are you aware of?           312 non-null    float64\n",
      " 7   <img src=\"//surveygizmolibrary.s3.amazonaws.com/library/642038/SW_Cylinda.png\" title=\"Cylinda\" style=\"width:130px;\" alt=\"SW_Cylinda.png\" />:SW - Which of these brands of domestic appliances are you aware of?           268 non-null    float64\n",
      " 8   <img src=\"//surveygizmolibrary.s3.amazonaws.com/library/642038/SW_Whirlpool.png\" title=\"Whirlpool\" style=\"width:130px;\" alt=\"SW_Whirlpool.png\" />:SW - Which of these brands of domestic appliances are you aware of?     272 non-null    float64\n",
      " 9   <img src=\"//surveygizmolibrary.s3.amazonaws.com/library/642038/SW_LG.png\" title=\"LG\" style=\"width:130px;\" alt=\"SW_LG.png\" />:SW - Which of these brands of domestic appliances are you aware of?                          278 non-null    float64\n",
      " 10  <img src=\"//surveygizmolibrary.s3.amazonaws.com/library/642038/SW_Dyson.png\" title=\"Dyson\" style=\"width:130px;\" alt=\"SW_Dyson.png\" />:SW - Which of these brands of domestic appliances are you aware of?                 226 non-null    float64\n",
      " 11  <img src=\"//surveygizmolibrary.s3.amazonaws.com/library/642038/SW_AEG.png\" title=\"AEG\" style=\"width:130px;\" alt=\"SW_AEG.png\" />:SW - Which of these brands of domestic appliances are you aware of?                       202 non-null    float64\n",
      " 12  <img src=\"//surveygizmolibrary.s3.amazonaws.com/library/642038/SW_Roborock.png\" title=\"Roborock\" style=\"width:130px;\" alt=\"SW_Roborock.png\" />:SW - Which of these brands of domestic appliances are you aware of?        101 non-null    float64\n",
      "dtypes: float64(12), object(1)\n",
      "memory usage: 40.8+ KB\n"
     ]
    }
   ],
   "source": [
    "Sweden.info()"
   ]
  },
  {
   "cell_type": "code",
   "execution_count": 26,
   "metadata": {},
   "outputs": [
    {
     "name": "stdout",
     "output_type": "stream",
     "text": [
      "  Response ID  Electrolux   SW  Samsung  Miele  Phillips  Siemens  Cylinda  \\\n",
      "0     SWE2001         1.0  2.0      3.0    4.0       5.0      6.0      7.0   \n",
      "1     SWE2002         1.0  2.0      3.0    4.0       5.0      6.0      7.0   \n",
      "2     SWE2003         1.0  2.0      3.0    NaN       5.0      6.0      NaN   \n",
      "3     SWE2004         1.0  2.0      NaN    NaN       NaN      NaN      7.0   \n",
      "4     SWE2005         1.0  2.0      NaN    4.0       NaN      NaN      NaN   \n",
      "\n",
      "   Whirlpool   LG  Dyson   AEG  Roborock  \n",
      "0        8.0  9.0    NaN  11.0       NaN  \n",
      "1        8.0  9.0   10.0  11.0       NaN  \n",
      "2        8.0  9.0    NaN   NaN       NaN  \n",
      "3        NaN  NaN    NaN   NaN       NaN  \n",
      "4        NaN  9.0    NaN   NaN       NaN  \n"
     ]
    }
   ],
   "source": [
    "# Rename specific columns in the DataFrame\n",
    "Sweden = Sweden.rename(columns={\n",
    "    '<img src=\"//surveygizmolibrary.s3.amazonaws.com/library/642038/SW_Electrolux.png\" title=\"Electrolux\" style=\"width:130px;\" alt=\"SW_Electrolux.png\" />:SW - Which of these brands of domestic appliances are you aware of?': 'Electrolux',\n",
    "    '<img src=\"//surveygizmolibrary.s3.amazonaws.com/library/642038/SW_Bosch.png\" title=\"Bosch\" style=\"width:130px;\" alt=\"SW_Bosch.png\" />:SW - Which of these brands of domestic appliances are you aware of?': 'SW',\n",
    "    '<img src=\"//surveygizmolibrary.s3.amazonaws.com/library/642038/SW_Samsung.png\" title=\"Samsung\" style=\"width:130px;\" alt=\"SW_Samsung.png\" />:SW - Which of these brands of domestic appliances are you aware of?': 'Samsung',\n",
    "    '<img src=\"//surveygizmolibrary.s3.amazonaws.com/library/642038/SW_Miele.png\" title=\"Miele\" style=\"width:130px;\" alt=\"SW_Miele.png\" />:SW - Which of these brands of domestic appliances are you aware of?': 'Miele',\n",
    "    '<img src=\"//surveygizmolibrary.s3.amazonaws.com/library/642038/SW_Philips.png\" title=\"Philips\" style=\"width:130px;\" alt=\"SW_Philips.png\" />:SW - Which of these brands of domestic appliances are you aware of?': 'Phillips',\n",
    "    '<img src=\"//surveygizmolibrary.s3.amazonaws.com/library/642038/SW_Siemens.png\" title=\"Siemens\" style=\"width:130px;\" alt=\"SW_Siemens.png\" />:SW - Which of these brands of domestic appliances are you aware of?': 'Siemens',\n",
    "    '<img src=\"//surveygizmolibrary.s3.amazonaws.com/library/642038/SW_Cylinda.png\" title=\"Cylinda\" style=\"width:130px;\" alt=\"SW_Cylinda.png\" />:SW - Which of these brands of domestic appliances are you aware of?': 'Cylinda',\n",
    "    '<img src=\"//surveygizmolibrary.s3.amazonaws.com/library/642038/SW_Whirlpool.png\" title=\"Whirlpool\" style=\"width:130px;\" alt=\"SW_Whirlpool.png\" />:SW - Which of these brands of domestic appliances are you aware of?': 'Whirlpool',\n",
    "    '<img src=\"//surveygizmolibrary.s3.amazonaws.com/library/642038/SW_LG.png\" title=\"LG\" style=\"width:130px;\" alt=\"SW_LG.png\" />:SW - Which of these brands of domestic appliances are you aware of?': 'LG',\n",
    "    '<img src=\"//surveygizmolibrary.s3.amazonaws.com/library/642038/SW_Dyson.png\" title=\"Dyson\" style=\"width:130px;\" alt=\"SW_Dyson.png\" />:SW - Which of these brands of domestic appliances are you aware of?': 'Dyson',\n",
    "    '<img src=\"//surveygizmolibrary.s3.amazonaws.com/library/642038/SW_AEG.png\" title=\"AEG\" style=\"width:130px;\" alt=\"SW_AEG.png\" />:SW - Which of these brands of domestic appliances are you aware of?': 'AEG',\n",
    "    '<img src=\"//surveygizmolibrary.s3.amazonaws.com/library/642038/SW_Roborock.png\" title=\"Roborock\" style=\"width:130px;\" alt=\"SW_Roborock.png\" />:SW - Which of these brands of domestic appliances are you aware of?': 'Roborock'\n",
    "})\n",
    "\n",
    "print(Sweden.head())"
   ]
  },
  {
   "cell_type": "code",
   "execution_count": 27,
   "metadata": {},
   "outputs": [
    {
     "name": "stdout",
     "output_type": "stream",
     "text": [
      "  Response ID       Brand  Aware Y/N\n",
      "0     SWE2001  Electrolux          1\n",
      "1     SWE2002  Electrolux          1\n",
      "2     SWE2003  Electrolux          1\n",
      "3     SWE2004  Electrolux          1\n",
      "4     SWE2005  Electrolux          1\n"
     ]
    }
   ],
   "source": [
    "# Unpivot the DataFrame, renaming 'Variable' to 'Brand'\n",
    "sweden_melted = Sweden.melt(id_vars=['Response ID'], var_name='Brand', value_name='Aware Y/N')\n",
    "\n",
    "# Replace null values in the 'Aware Y/N' column with \"None of these\"\n",
    "# sweden_melted['Aware Y/N'] = switzerland_melted['Aware Y/N'].fillna(\"None of these\")\n",
    "sweden_melted['Aware Y/N'] = sweden_melted['Aware Y/N'].fillna(0).astype(int)\n",
    "print(sweden_melted.head())"
   ]
  },
  {
   "cell_type": "code",
   "execution_count": 28,
   "metadata": {},
   "outputs": [
    {
     "name": "stdout",
     "output_type": "stream",
     "text": [
      "Aware Y/N\n",
      "0     1529\n",
      "1      350\n",
      "2      342\n",
      "3      326\n",
      "5      323\n",
      "6      312\n",
      "9      278\n",
      "8      272\n",
      "4      271\n",
      "7      268\n",
      "10     226\n",
      "11     202\n",
      "12     101\n",
      "Name: count, dtype: int64\n"
     ]
    }
   ],
   "source": [
    "appliances_value_counts = sweden_melted['Aware Y/N'].value_counts()\n",
    "print(appliances_value_counts)"
   ]
  },
  {
   "cell_type": "markdown",
   "metadata": {},
   "source": [
    "### Thailand"
   ]
  },
  {
   "cell_type": "code",
   "execution_count": 29,
   "metadata": {},
   "outputs": [
    {
     "name": "stdout",
     "output_type": "stream",
     "text": [
      "<class 'pandas.core.frame.DataFrame'>\n",
      "RangeIndex: 400 entries, 0 to 399\n",
      "Data columns (total 13 columns):\n",
      " #   Column                                                                                                                                                                                                                     Non-Null Count  Dtype  \n",
      "---  ------                                                                                                                                                                                                                     --------------  -----  \n",
      " 0   Response ID                                                                                                                                                                                                                400 non-null    object \n",
      " 1   <img src=\"//surveygizmolibrary.s3.amazonaws.com/library/642038/TH_Samsung.png\" title=\"Samsung\" style=\"height:130px;\" alt=\"TH_Samsung.png\" />:TH - Which of these brands of domestic appliances are you aware of?           331 non-null    float64\n",
      " 2   <img src=\"//surveygizmolibrary.s3.amazonaws.com/library/642038/TH_LG.png\" title=\"LG\" style=\"height:130px;\" alt=\"TH_LG.png\" />:TH - Which of these brands of domestic appliances are you aware of?                          339 non-null    float64\n",
      " 3   <img src=\"//surveygizmolibrary.s3.amazonaws.com/library/642038/TH_Mitsubishi.png\" title=\"Mitsubishi\" style=\"height:130px;\" alt=\"TH_Mitsubishi.png\" />:TH - Which of these brands of domestic appliances are you aware of?  306 non-null    float64\n",
      " 4   <img src=\"//surveygizmolibrary.s3.amazonaws.com/library/642038/TH_Electrolux.png\" title=\"Electrolux\" style=\"height:130px;\" alt=\"TH_Electrolux.png\" />:TH - Which of these brands of domestic appliances are you aware of?  258 non-null    float64\n",
      " 5   <img src=\"//surveygizmolibrary.s3.amazonaws.com/library/642038/TH_Panasonic.png\" title=\"Panasonic\" style=\"height:130px;\" alt=\"TH_Panasonic.png\" />:TH - Which of these brands of domestic appliances are you aware of?     257 non-null    float64\n",
      " 6   <img src=\"//surveygizmolibrary.s3.amazonaws.com/library/642038/TH_Sharp.png\" title=\"Sharp\" style=\"height:130px;\" alt=\"TH_Sharp.png\" />:TH - Which of these brands of domestic appliances are you aware of?                 291 non-null    float64\n",
      " 7   <img src=\"//surveygizmolibrary.s3.amazonaws.com/library/642038/TH_Philips.png\" title=\"Philips\" style=\"height:130px;\" alt=\"TH_Philips.png\" />:TH - Which of these brands of domestic appliances are you aware of?           277 non-null    float64\n",
      " 8   <img src=\"//surveygizmolibrary.s3.amazonaws.com/library/642038/TH_Hitachi.png\" title=\"Hitachi\" style=\"height:130px;\" alt=\"TH_Hitachi.png\" />:TH - Which of these brands of domestic appliances are you aware of?           259 non-null    float64\n",
      " 9   <img src=\"//surveygizmolibrary.s3.amazonaws.com/library/642038/TH_Haier.png\" title=\"Haier\" style=\"height:130px;\" alt=\"TH_Haier.png\" />:TH - Which of these brands of domestic appliances are you aware of?                 237 non-null    float64\n",
      " 10  <img src=\"//surveygizmolibrary.s3.amazonaws.com/library/642038/TH_Tefal.png\" title=\"Tefal\" style=\"height:130px;\" alt=\"TH_Tefal.png\" />:TH - Which of these brands of domestic appliances are you aware of?                 232 non-null    float64\n",
      " 11  <img src=\"//surveygizmolibrary.s3.amazonaws.com/library/642038/TH_Bosch.png\" title=\"Bosch\" style=\"height:130px;\" alt=\"TH_Bosch.png\" />:TH - Which of these brands of domestic appliances are you aware of?                 173 non-null    float64\n",
      " 12  <img src=\"//surveygizmolibrary.s3.amazonaws.com/library/642038/TH_Dyson.png\" title=\"Dyson\" style=\"height:130px;\" alt=\"TH_Dyson.png\" />:TH - Which of these brands of domestic appliances are you aware of?                 132 non-null    float64\n",
      "dtypes: float64(12), object(1)\n",
      "memory usage: 40.8+ KB\n"
     ]
    }
   ],
   "source": [
    "Thailand.info()"
   ]
  },
  {
   "cell_type": "code",
   "execution_count": 30,
   "metadata": {},
   "outputs": [
    {
     "name": "stdout",
     "output_type": "stream",
     "text": [
      "  Response ID  Samsung   LG  Mitsubishi  Electrolux  Panasonic  Sharp  \\\n",
      "0      TH2001      1.0  NaN         3.0         4.0        5.0    6.0   \n",
      "1      TH2002      1.0  2.0         3.0         4.0        5.0    6.0   \n",
      "2      TH2003      1.0  2.0         3.0         4.0        5.0    6.0   \n",
      "3      TH2004      1.0  2.0         3.0         4.0        5.0    NaN   \n",
      "4      TH2005      1.0  2.0         3.0         4.0        5.0    NaN   \n",
      "\n",
      "   Phillips  Hitachi  Haier  Tefal  Bosch  Dyson  \n",
      "0       7.0      8.0    9.0   10.0    NaN   12.0  \n",
      "1       7.0      8.0    9.0   10.0   11.0   12.0  \n",
      "2       7.0      8.0    9.0   10.0   11.0   12.0  \n",
      "3       7.0      8.0    9.0   10.0    NaN    NaN  \n",
      "4       7.0      8.0    NaN   10.0   11.0    NaN  \n"
     ]
    }
   ],
   "source": [
    "# Rename specific columns in the DataFrame\n",
    "Thailand = Thailand.rename(columns={\n",
    "    '<img src=\"//surveygizmolibrary.s3.amazonaws.com/library/642038/TH_Samsung.png\" title=\"Samsung\" style=\"height:130px;\" alt=\"TH_Samsung.png\" />:TH - Which of these brands of domestic appliances are you aware of?': 'Samsung',\n",
    "    '<img src=\"//surveygizmolibrary.s3.amazonaws.com/library/642038/TH_LG.png\" title=\"LG\" style=\"height:130px;\" alt=\"TH_LG.png\" />:TH - Which of these brands of domestic appliances are you aware of?': 'LG',\n",
    "    '<img src=\"//surveygizmolibrary.s3.amazonaws.com/library/642038/TH_Mitsubishi.png\" title=\"Mitsubishi\" style=\"height:130px;\" alt=\"TH_Mitsubishi.png\" />:TH - Which of these brands of domestic appliances are you aware of?': 'Mitsubishi',\n",
    "    '<img src=\"//surveygizmolibrary.s3.amazonaws.com/library/642038/TH_Electrolux.png\" title=\"Electrolux\" style=\"height:130px;\" alt=\"TH_Electrolux.png\" />:TH - Which of these brands of domestic appliances are you aware of?': 'Electrolux',\n",
    "    '<img src=\"//surveygizmolibrary.s3.amazonaws.com/library/642038/TH_Panasonic.png\" title=\"Panasonic\" style=\"height:130px;\" alt=\"TH_Panasonic.png\" />:TH - Which of these brands of domestic appliances are you aware of?': 'Panasonic',\n",
    "    '<img src=\"//surveygizmolibrary.s3.amazonaws.com/library/642038/TH_Sharp.png\" title=\"Sharp\" style=\"height:130px;\" alt=\"TH_Sharp.png\" />:TH - Which of these brands of domestic appliances are you aware of?': 'Sharp',\n",
    "    '<img src=\"//surveygizmolibrary.s3.amazonaws.com/library/642038/TH_Philips.png\" title=\"Philips\" style=\"height:130px;\" alt=\"TH_Philips.png\" />:TH - Which of these brands of domestic appliances are you aware of?': 'Phillips',\n",
    "    '<img src=\"//surveygizmolibrary.s3.amazonaws.com/library/642038/TH_Hitachi.png\" title=\"Hitachi\" style=\"height:130px;\" alt=\"TH_Hitachi.png\" />:TH - Which of these brands of domestic appliances are you aware of?': 'Hitachi',\n",
    "    '<img src=\"//surveygizmolibrary.s3.amazonaws.com/library/642038/TH_Haier.png\" title=\"Haier\" style=\"height:130px;\" alt=\"TH_Haier.png\" />:TH - Which of these brands of domestic appliances are you aware of?': 'Haier',\n",
    "    '<img src=\"//surveygizmolibrary.s3.amazonaws.com/library/642038/TH_Tefal.png\" title=\"Tefal\" style=\"height:130px;\" alt=\"TH_Tefal.png\" />:TH - Which of these brands of domestic appliances are you aware of?': 'Tefal',\n",
    "    '<img src=\"//surveygizmolibrary.s3.amazonaws.com/library/642038/TH_Bosch.png\" title=\"Bosch\" style=\"height:130px;\" alt=\"TH_Bosch.png\" />:TH - Which of these brands of domestic appliances are you aware of?': 'Bosch',\n",
    "    '<img src=\"//surveygizmolibrary.s3.amazonaws.com/library/642038/TH_Dyson.png\" title=\"Dyson\" style=\"height:130px;\" alt=\"TH_Dyson.png\" />:TH - Which of these brands of domestic appliances are you aware of?': 'Dyson'\n",
    "})\n",
    "\n",
    "print(Thailand.head())"
   ]
  },
  {
   "cell_type": "code",
   "execution_count": 31,
   "metadata": {},
   "outputs": [
    {
     "name": "stdout",
     "output_type": "stream",
     "text": [
      "  Response ID    Brand  Aware Y/N\n",
      "0      TH2001  Samsung          1\n",
      "1      TH2002  Samsung          1\n",
      "2      TH2003  Samsung          1\n",
      "3      TH2004  Samsung          1\n",
      "4      TH2005  Samsung          1\n"
     ]
    }
   ],
   "source": [
    "# Unpivot the DataFrame, renaming 'Variable' to 'Brand'\n",
    "thailand_melted = Thailand.melt(id_vars=['Response ID'], var_name='Brand', value_name='Aware Y/N')\n",
    "\n",
    "# Replace null values in the 'Aware Y/N' column with \"None of these\"\n",
    "# thailand_melted['Aware Y/N'] = thailand_melted['Aware Y/N'].fillna(\"None of these\")\n",
    "thailand_melted['Aware Y/N'] = thailand_melted['Aware Y/N'].fillna(0).astype(int)\n",
    "print(thailand_melted.head())"
   ]
  },
  {
   "cell_type": "code",
   "execution_count": 32,
   "metadata": {},
   "outputs": [
    {
     "name": "stdout",
     "output_type": "stream",
     "text": [
      "Aware Y/N\n",
      "0     1708\n",
      "2      339\n",
      "1      331\n",
      "3      306\n",
      "6      291\n",
      "7      277\n",
      "8      259\n",
      "4      258\n",
      "5      257\n",
      "9      237\n",
      "10     232\n",
      "11     173\n",
      "12     132\n",
      "Name: count, dtype: int64\n"
     ]
    }
   ],
   "source": [
    "appliances_value_counts = thailand_melted['Aware Y/N'].value_counts()\n",
    "print(appliances_value_counts)"
   ]
  },
  {
   "cell_type": "markdown",
   "metadata": {},
   "source": [
    "### UK"
   ]
  },
  {
   "cell_type": "code",
   "execution_count": 33,
   "metadata": {},
   "outputs": [
    {
     "name": "stdout",
     "output_type": "stream",
     "text": [
      "<class 'pandas.core.frame.DataFrame'>\n",
      "RangeIndex: 400 entries, 0 to 399\n",
      "Data columns (total 13 columns):\n",
      " #   Column                                                                                                                                                                                                              Non-Null Count  Dtype  \n",
      "---  ------                                                                                                                                                                                                              --------------  -----  \n",
      " 0   Response ID                                                                                                                                                                                                         400 non-null    object \n",
      " 1   <img src=\"//surveygizmolibrary.s3.amazonaws.com/library/642038/UK_Samsung.png\" title=\"Samsung\" style=\"width:130px;\" alt=\"UK_Samsung.png\" />:UK - Which of these brands of domestic appliances are you aware of?     340 non-null    float64\n",
      " 2   <img src=\"//surveygizmolibrary.s3.amazonaws.com/library/642038/UK_LG.png\" title=\"LG\" style=\"width:130px;\" alt=\"UK_LG.png\" />:UK - Which of these brands of domestic appliances are you aware of?                    321 non-null    float64\n",
      " 3   <img src=\"//surveygizmolibrary.s3.amazonaws.com/library/642038/UK_Hotpoint.png\" title=\"Hotpoint\" style=\"width:130px;\" alt=\"UK_Hotpoint.png\" />:UK - Which of these brands of domestic appliances are you aware of?  297 non-null    float64\n",
      " 4   <img src=\"//surveygizmolibrary.s3.amazonaws.com/library/642038/UK_Bosch.png\" title=\"Bosch\" style=\"width:130px;\" alt=\"UK_Bosch.png\" />:UK - Which of these brands of domestic appliances are you aware of?           318 non-null    float64\n",
      " 5   <img src=\"//surveygizmolibrary.s3.amazonaws.com/library/642038/UK_Dyson.png\" title=\"Dyson\" style=\"width:130px;\" alt=\"UK_Dyson.png\" />:UK - Which of these brands of domestic appliances are you aware of?           302 non-null    float64\n",
      " 6   <img src=\"//surveygizmolibrary.s3.amazonaws.com/library/642038/UK_Beko.png\" title=\"Beko\" style=\"width:130px;\" alt=\"UK_Beko.png\" />:UK - Which of these brands of domestic appliances are you aware of?              283 non-null    float64\n",
      " 7   <img src=\"//surveygizmolibrary.s3.amazonaws.com/library/642038/UK_Shark.png\" title=\"Shark\" style=\"width:130px;\" alt=\"UK_Shark.png\" />:UK - Which of these brands of domestic appliances are you aware of?           276 non-null    float64\n",
      " 8   <img src=\"//surveygizmolibrary.s3.amazonaws.com/library/642038/UK_Zanussi.png\" title=\"Zanussi\" style=\"width:130px;\" alt=\"UK_Zanussi.png\" />:UK - Which of these brands of domestic appliances are you aware of?     238 non-null    float64\n",
      " 9   <img src=\"//surveygizmolibrary.s3.amazonaws.com/library/642038/UK_Miele.png\" title=\"Miele\" style=\"width:130px;\" alt=\"UK_Miele.png\" />:UK - Which of these brands of domestic appliances are you aware of?           229 non-null    float64\n",
      " 10  <img src=\"//surveygizmolibrary.s3.amazonaws.com/library/642038/UK_AEG.png\" title=\"AEG\" style=\"width:130px;\" alt=\"UK_AEG.png\" />:UK - Which of these brands of domestic appliances are you aware of?                 200 non-null    float64\n",
      " 11  <img src=\"//surveygizmolibrary.s3.amazonaws.com/library/642038/UK_Siemens.png\" title=\"Siemens\" style=\"width:130px;\" alt=\"UK_Siemens.png\" />:UK - Which of these brands of domestic appliances are you aware of?     219 non-null    float64\n",
      " 12  <img src=\"//surveygizmolibrary.s3.amazonaws.com/library/642038/UK_Neff.png\" title=\"Neff\" style=\"width:130px;\" alt=\"UK_Neff.png\" />:UK - Which of these brands of domestic appliances are you aware of?              174 non-null    float64\n",
      "dtypes: float64(12), object(1)\n",
      "memory usage: 40.8+ KB\n"
     ]
    }
   ],
   "source": [
    "UK.info()"
   ]
  },
  {
   "cell_type": "code",
   "execution_count": 34,
   "metadata": {},
   "outputs": [
    {
     "name": "stdout",
     "output_type": "stream",
     "text": [
      "  Response ID  Samsung   LG  Hotpoint  Bosch  Dyson  Beko  Shark  Zanussi  \\\n",
      "0      UK2001      1.0  2.0       3.0    4.0    5.0   6.0    NaN      8.0   \n",
      "1      UK2002      1.0  2.0       3.0    4.0    5.0   6.0    7.0      8.0   \n",
      "2      UK2003      1.0  2.0       3.0    4.0    5.0   6.0    7.0      8.0   \n",
      "3      UK2004      1.0  2.0       3.0    4.0    5.0   NaN    7.0      NaN   \n",
      "4      UK2005      1.0  2.0       NaN    NaN    NaN   6.0    7.0      NaN   \n",
      "\n",
      "   Miele   AEG  Siemens  Neff  \n",
      "0    9.0   NaN     11.0   NaN  \n",
      "1    NaN  10.0     11.0   NaN  \n",
      "2    9.0  10.0     11.0  12.0  \n",
      "3    NaN   NaN      NaN   NaN  \n",
      "4    9.0   NaN     11.0  12.0  \n"
     ]
    }
   ],
   "source": [
    "# Rename specific columns in the DataFrame\n",
    "UK = UK.rename(columns={\n",
    "    '<img src=\"//surveygizmolibrary.s3.amazonaws.com/library/642038/UK_Samsung.png\" title=\"Samsung\" style=\"width:130px;\" alt=\"UK_Samsung.png\" />:UK - Which of these brands of domestic appliances are you aware of?': 'Samsung',\n",
    "    '<img src=\"//surveygizmolibrary.s3.amazonaws.com/library/642038/UK_LG.png\" title=\"LG\" style=\"width:130px;\" alt=\"UK_LG.png\" />:UK - Which of these brands of domestic appliances are you aware of?': 'LG',\n",
    "    '<img src=\"//surveygizmolibrary.s3.amazonaws.com/library/642038/UK_Hotpoint.png\" title=\"Hotpoint\" style=\"width:130px;\" alt=\"UK_Hotpoint.png\" />:UK - Which of these brands of domestic appliances are you aware of?': 'Hotpoint',\n",
    "    '<img src=\"//surveygizmolibrary.s3.amazonaws.com/library/642038/UK_Bosch.png\" title=\"Bosch\" style=\"width:130px;\" alt=\"UK_Bosch.png\" />:UK - Which of these brands of domestic appliances are you aware of?': 'Bosch',\n",
    "    '<img src=\"//surveygizmolibrary.s3.amazonaws.com/library/642038/UK_Dyson.png\" title=\"Dyson\" style=\"width:130px;\" alt=\"UK_Dyson.png\" />:UK - Which of these brands of domestic appliances are you aware of?': 'Dyson',\n",
    "    '<img src=\"//surveygizmolibrary.s3.amazonaws.com/library/642038/UK_Beko.png\" title=\"Beko\" style=\"width:130px;\" alt=\"UK_Beko.png\" />:UK - Which of these brands of domestic appliances are you aware of?': 'Beko',\n",
    "    '<img src=\"//surveygizmolibrary.s3.amazonaws.com/library/642038/UK_Shark.png\" title=\"Shark\" style=\"width:130px;\" alt=\"UK_Shark.png\" />:UK - Which of these brands of domestic appliances are you aware of?': 'Shark',\n",
    "    '<img src=\"//surveygizmolibrary.s3.amazonaws.com/library/642038/UK_Zanussi.png\" title=\"Zanussi\" style=\"width:130px;\" alt=\"UK_Zanussi.png\" />:UK - Which of these brands of domestic appliances are you aware of?': 'Zanussi',\n",
    "    '<img src=\"//surveygizmolibrary.s3.amazonaws.com/library/642038/UK_Miele.png\" title=\"Miele\" style=\"width:130px;\" alt=\"UK_Miele.png\" />:UK - Which of these brands of domestic appliances are you aware of?': 'Miele',\n",
    "    '<img src=\"//surveygizmolibrary.s3.amazonaws.com/library/642038/UK_AEG.png\" title=\"AEG\" style=\"width:130px;\" alt=\"UK_AEG.png\" />:UK - Which of these brands of domestic appliances are you aware of?': 'AEG',\n",
    "    '<img src=\"//surveygizmolibrary.s3.amazonaws.com/library/642038/UK_Siemens.png\" title=\"Siemens\" style=\"width:130px;\" alt=\"UK_Siemens.png\" />:UK - Which of these brands of domestic appliances are you aware of?': 'Siemens',\n",
    "    '<img src=\"//surveygizmolibrary.s3.amazonaws.com/library/642038/UK_Neff.png\" title=\"Neff\" style=\"width:130px;\" alt=\"UK_Neff.png\" />:UK - Which of these brands of domestic appliances are you aware of?': 'Neff'\n",
    "})\n",
    "\n",
    "print(UK.head())"
   ]
  },
  {
   "cell_type": "code",
   "execution_count": 35,
   "metadata": {},
   "outputs": [
    {
     "name": "stdout",
     "output_type": "stream",
     "text": [
      "  Response ID    Brand  Aware Y/N\n",
      "0      UK2001  Samsung          1\n",
      "1      UK2002  Samsung          1\n",
      "2      UK2003  Samsung          1\n",
      "3      UK2004  Samsung          1\n",
      "4      UK2005  Samsung          1\n"
     ]
    }
   ],
   "source": [
    "# Unpivot the DataFrame, renaming 'Variable' to 'Brand'\n",
    "uk_melted = UK.melt(id_vars=['Response ID'], var_name='Brand', value_name='Aware Y/N')\n",
    "\n",
    "# Replace null values in the 'Aware Y/N' column with \"None of these\"\n",
    "# uk_melted['Aware Y/N'] = thailand_melted['Aware Y/N'].fillna(\"None of these\")\n",
    "uk_melted['Aware Y/N'] = uk_melted['Aware Y/N'].fillna(0).astype(int)\n",
    "print(uk_melted.head())"
   ]
  },
  {
   "cell_type": "code",
   "execution_count": 36,
   "metadata": {},
   "outputs": [
    {
     "name": "stdout",
     "output_type": "stream",
     "text": [
      "Aware Y/N\n",
      "0     1603\n",
      "1      340\n",
      "2      321\n",
      "4      318\n",
      "5      302\n",
      "3      297\n",
      "6      283\n",
      "7      276\n",
      "8      238\n",
      "9      229\n",
      "11     219\n",
      "10     200\n",
      "12     174\n",
      "Name: count, dtype: int64\n"
     ]
    }
   ],
   "source": [
    "appliances_value_counts = uk_melted['Aware Y/N'].value_counts()\n",
    "print(appliances_value_counts)"
   ]
  },
  {
   "cell_type": "markdown",
   "metadata": {},
   "source": [
    "### Vietnam"
   ]
  },
  {
   "cell_type": "code",
   "execution_count": 37,
   "metadata": {},
   "outputs": [
    {
     "name": "stdout",
     "output_type": "stream",
     "text": [
      "<class 'pandas.core.frame.DataFrame'>\n",
      "RangeIndex: 400 entries, 0 to 399\n",
      "Data columns (total 13 columns):\n",
      " #   Column                                                                                                                                                                                                                     Non-Null Count  Dtype  \n",
      "---  ------                                                                                                                                                                                                                     --------------  -----  \n",
      " 0   Response ID                                                                                                                                                                                                                400 non-null    object \n",
      " 1   <img src=\"//surveygizmolibrary.s3.amazonaws.com/library/642038/VN_Samsung.png\" title=\"Samsung\" style=\"height:130px;\" alt=\"VN_Samsung.png\" />:VN - Which of these brands of domestic appliances are you aware of?           330 non-null    float64\n",
      " 2   <img src=\"//surveygizmolibrary.s3.amazonaws.com/library/642038/VN_Panasonic.png\" title=\"Panasonic\" style=\"height:130px;\" alt=\"VN_Panasonic.png\" />:VN - Which of these brands of domestic appliances are you aware of?     339 non-null    float64\n",
      " 3   <img src=\"//surveygizmolibrary.s3.amazonaws.com/library/642038/VN_LG.png\" title=\"LG\" style=\"height:130px;\" alt=\"VN_LG.png\" />:VN - Which of these brands of domestic appliances are you aware of?                          307 non-null    float64\n",
      " 4   <img src=\"//surveygizmolibrary.s3.amazonaws.com/library/642038/VN_Toshiba.png\" title=\"Toshiba\" style=\"height:130px;\" alt=\"VN_Toshiba.png\" />:VN - Which of these brands of domestic appliances are you aware of?           276 non-null    float64\n",
      " 5   <img src=\"//surveygizmolibrary.s3.amazonaws.com/library/642038/VN_Electrolux.png\" title=\"Electrolux\" style=\"height:130px;\" alt=\"VN_Electrolux.png\" />:VN - Which of these brands of domestic appliances are you aware of?  238 non-null    float64\n",
      " 6   <img src=\"//surveygizmolibrary.s3.amazonaws.com/library/642038/VN_Sharp.png\" title=\"Sharp\" style=\"height:130px;\" alt=\"VN_Sharp.png\" />:VN - Which of these brands of domestic appliances are you aware of?                 267 non-null    float64\n",
      " 7   <img src=\"//surveygizmolibrary.s3.amazonaws.com/library/642038/VN_Philips.png\" title=\"Philips\" style=\"height:130px;\" alt=\"VN_Philips.png\" />:VN - Which of these brands of domestic appliances are you aware of?           242 non-null    float64\n",
      " 8   <img src=\"//surveygizmolibrary.s3.amazonaws.com/library/642038/VN_Hitachi.png\" title=\"Hitachi\" style=\"height:130px;\" alt=\"VN_Hitachi.png\" />:VN - Which of these brands of domestic appliances are you aware of?           225 non-null    float64\n",
      " 9   <img src=\"//surveygizmolibrary.s3.amazonaws.com/library/642038/VN_Xiaomi.png\" title=\"Xiaomi\" style=\"height:130px;\" alt=\"VN_Xiaomi.png\" />:VN - Which of these brands of domestic appliances are you aware of?              229 non-null    float64\n",
      " 10  <img src=\"//surveygizmolibrary.s3.amazonaws.com/library/642038/VN_Aqua.png\" title=\"Aqua\" style=\"height:130px;\" alt=\"VN_Aqua.png\" />:VN - Which of these brands of domestic appliances are you aware of?                    221 non-null    float64\n",
      " 11  <img src=\"//surveygizmolibrary.s3.amazonaws.com/library/642038/VN_Bosch.png\" title=\"Bosch\" style=\"height:130px;\" alt=\"VN_Bosch.png\" />:VN - Which of these brands of domestic appliances are you aware of?                 161 non-null    float64\n",
      " 12  <img src=\"//surveygizmolibrary.s3.amazonaws.com/library/642038/VN_Midea.png\" title=\"Midea\" style=\"height:130px;\" alt=\"VN_Midea.png\" />:VN - Which of these brands of domestic appliances are you aware of?                 144 non-null    float64\n",
      "dtypes: float64(12), object(1)\n",
      "memory usage: 40.8+ KB\n"
     ]
    }
   ],
   "source": [
    "Vietnam.info()"
   ]
  },
  {
   "cell_type": "code",
   "execution_count": 38,
   "metadata": {},
   "outputs": [
    {
     "name": "stdout",
     "output_type": "stream",
     "text": [
      "  Response ID  Samsung  Panasonic   LG  Toshiba  Electrolux  Sharp  Phillips  \\\n",
      "0     VN02001      1.0        2.0  3.0      4.0         5.0    NaN       7.0   \n",
      "1     VN02002      1.0        NaN  NaN      4.0         5.0    6.0       7.0   \n",
      "2     VN02003      1.0        2.0  3.0      NaN         5.0    NaN       7.0   \n",
      "3     VN02004      1.0        2.0  3.0      4.0         5.0    6.0       7.0   \n",
      "4     VN02005      1.0        2.0  NaN      NaN         5.0    NaN       NaN   \n",
      "\n",
      "   Hitachi  Xiaomi  Aqua  Bosch  Midea  \n",
      "0      NaN     NaN  10.0    NaN    NaN  \n",
      "1      8.0     NaN  10.0    NaN    NaN  \n",
      "2      8.0     NaN   NaN    NaN    NaN  \n",
      "3      8.0     9.0  10.0   11.0   12.0  \n",
      "4      NaN     NaN   NaN    NaN    NaN  \n"
     ]
    }
   ],
   "source": [
    "# Rename specific columns in the DataFrame\n",
    "Vietnam = Vietnam.rename(columns={\n",
    "    '<img src=\"//surveygizmolibrary.s3.amazonaws.com/library/642038/VN_Samsung.png\" title=\"Samsung\" style=\"height:130px;\" alt=\"VN_Samsung.png\" />:VN - Which of these brands of domestic appliances are you aware of?': 'Samsung',\n",
    "    '<img src=\"//surveygizmolibrary.s3.amazonaws.com/library/642038/VN_Panasonic.png\" title=\"Panasonic\" style=\"height:130px;\" alt=\"VN_Panasonic.png\" />:VN - Which of these brands of domestic appliances are you aware of?': 'Panasonic',\n",
    "    '<img src=\"//surveygizmolibrary.s3.amazonaws.com/library/642038/VN_LG.png\" title=\"LG\" style=\"height:130px;\" alt=\"VN_LG.png\" />:VN - Which of these brands of domestic appliances are you aware of?': 'LG',\n",
    "    '<img src=\"//surveygizmolibrary.s3.amazonaws.com/library/642038/VN_Toshiba.png\" title=\"Toshiba\" style=\"height:130px;\" alt=\"VN_Toshiba.png\" />:VN - Which of these brands of domestic appliances are you aware of?': 'Toshiba',\n",
    "    '<img src=\"//surveygizmolibrary.s3.amazonaws.com/library/642038/VN_Electrolux.png\" title=\"Electrolux\" style=\"height:130px;\" alt=\"VN_Electrolux.png\" />:VN - Which of these brands of domestic appliances are you aware of?': 'Electrolux',\n",
    "    '<img src=\"//surveygizmolibrary.s3.amazonaws.com/library/642038/VN_Sharp.png\" title=\"Sharp\" style=\"height:130px;\" alt=\"VN_Sharp.png\" />:VN - Which of these brands of domestic appliances are you aware of?': 'Sharp',\n",
    "    '<img src=\"//surveygizmolibrary.s3.amazonaws.com/library/642038/VN_Philips.png\" title=\"Philips\" style=\"height:130px;\" alt=\"VN_Philips.png\" />:VN - Which of these brands of domestic appliances are you aware of?': 'Phillips',\n",
    "    '<img src=\"//surveygizmolibrary.s3.amazonaws.com/library/642038/VN_Hitachi.png\" title=\"Hitachi\" style=\"height:130px;\" alt=\"VN_Hitachi.png\" />:VN - Which of these brands of domestic appliances are you aware of?': 'Hitachi',\n",
    "    '<img src=\"//surveygizmolibrary.s3.amazonaws.com/library/642038/VN_Xiaomi.png\" title=\"Xiaomi\" style=\"height:130px;\" alt=\"VN_Xiaomi.png\" />:VN - Which of these brands of domestic appliances are you aware of?': 'Xiaomi',\n",
    "    '<img src=\"//surveygizmolibrary.s3.amazonaws.com/library/642038/VN_Aqua.png\" title=\"Aqua\" style=\"height:130px;\" alt=\"VN_Aqua.png\" />:VN - Which of these brands of domestic appliances are you aware of?': 'Aqua',\n",
    "    '<img src=\"//surveygizmolibrary.s3.amazonaws.com/library/642038/VN_Bosch.png\" title=\"Bosch\" style=\"height:130px;\" alt=\"VN_Bosch.png\" />:VN - Which of these brands of domestic appliances are you aware of?': 'Bosch',\n",
    "    '<img src=\"//surveygizmolibrary.s3.amazonaws.com/library/642038/VN_Midea.png\" title=\"Midea\" style=\"height:130px;\" alt=\"VN_Midea.png\" />:VN - Which of these brands of domestic appliances are you aware of?': 'Midea'\n",
    "})\n",
    "\n",
    "print(Vietnam.head())"
   ]
  },
  {
   "cell_type": "code",
   "execution_count": 39,
   "metadata": {},
   "outputs": [
    {
     "name": "stdout",
     "output_type": "stream",
     "text": [
      "  Response ID    Brand  Aware Y/N\n",
      "0     VN02001  Samsung          1\n",
      "1     VN02002  Samsung          1\n",
      "2     VN02003  Samsung          1\n",
      "3     VN02004  Samsung          1\n",
      "4     VN02005  Samsung          1\n"
     ]
    }
   ],
   "source": [
    "# Unpivot the DataFrame, renaming 'Variable' to 'Brand'\n",
    "vietnam_melted = Vietnam.melt(id_vars=['Response ID'], var_name='Brand', value_name='Aware Y/N')\n",
    "\n",
    "# Replace null values in the 'Aware Y/N' column with \"None of these\"\n",
    "# vietnam_melted['Aware Y/N'] = vietnam_melted['Aware Y/N'].fillna(\"None of these\")\n",
    "vietnam_melted['Aware Y/N'] = vietnam_melted['Aware Y/N'].fillna(0).astype(int)\n",
    "print(vietnam_melted.head())"
   ]
  },
  {
   "cell_type": "code",
   "execution_count": 40,
   "metadata": {},
   "outputs": [
    {
     "name": "stdout",
     "output_type": "stream",
     "text": [
      "Aware Y/N\n",
      "0     1821\n",
      "2      339\n",
      "1      330\n",
      "3      307\n",
      "4      276\n",
      "6      267\n",
      "7      242\n",
      "5      238\n",
      "9      229\n",
      "8      225\n",
      "10     221\n",
      "11     161\n",
      "12     144\n",
      "Name: count, dtype: int64\n"
     ]
    }
   ],
   "source": [
    "appliances_value_counts = vietnam_melted['Aware Y/N'].value_counts()\n",
    "print(appliances_value_counts)"
   ]
  },
  {
   "cell_type": "markdown",
   "metadata": {},
   "source": [
    "### Australia"
   ]
  },
  {
   "cell_type": "code",
   "execution_count": 41,
   "metadata": {},
   "outputs": [
    {
     "name": "stdout",
     "output_type": "stream",
     "text": [
      "<class 'pandas.core.frame.DataFrame'>\n",
      "RangeIndex: 400 entries, 0 to 399\n",
      "Data columns (total 13 columns):\n",
      " #   Column                                                                                                                                                                                                                            Non-Null Count  Dtype  \n",
      "---  ------                                                                                                                                                                                                                            --------------  -----  \n",
      " 0   Response ID                                                                                                                                                                                                                       400 non-null    object \n",
      " 1   <img src=\"//surveygizmolibrary.s3.amazonaws.com/library/642038/AU_Samsung.png\" title=\"Samsung\" style=\"height:130px;\" alt=\"AU_Samsung.png\" />:AU - Which of these brands of domestic appliances are you aware of?                  332 non-null    float64\n",
      " 2   <img src=\"//surveygizmolibrary.s3.amazonaws.com/library/642038/AU_LG.png\" title=\"LG\" style=\"height:130px;\" alt=\"AU_LG.png\" />:AU - Which of these brands of domestic appliances are you aware of?                                 340 non-null    float64\n",
      " 3   <img src=\"//surveygizmolibrary.s3.amazonaws.com/library/642038/AU_Dyson.png\" title=\"Dyson\" style=\"height:130px;\" alt=\"AU_Dyson.png\" />:AU - Which of these brands of domestic appliances are you aware of?                        311 non-null    float64\n",
      " 4   <img src=\"//surveygizmolibrary.s3.amazonaws.com/library/642038/AU_Westinghouse.png\" title=\"Westinghouse\" style=\"height:130px;\" alt=\"AU_Westinghouse.png\" />:AU - Which of these brands of domestic appliances are you aware of?   290 non-null    float64\n",
      " 5   <img src=\"//surveygizmolibrary.s3.amazonaws.com/library/642038/AU_FisherPaykel.png\" title=\"Fisher Paykel\" style=\"height:130px;\" alt=\"AU_FisherPaykel.png\" />:AU - Which of these brands of domestic appliances are you aware of?  267 non-null    float64\n",
      " 6   <img src=\"//surveygizmolibrary.s3.amazonaws.com/library/642038/AU_Bosch.png\" title=\"Bosch\" style=\"height:130px;\" alt=\"AU_Bosch.png\" />:AU - Which of these brands of domestic appliances are you aware of?                        277 non-null    float64\n",
      " 7   <img src=\"//surveygizmolibrary.s3.amazonaws.com/library/642038/AU_Hisense.png\" title=\"Hisense\" style=\"height:130px;\" alt=\"AU_Hisense.png\" />:AU - Which of these brands of domestic appliances are you aware of?                  268 non-null    float64\n",
      " 8   <img src=\"//surveygizmolibrary.s3.amazonaws.com/library/642038/AU_Miele.png\" title=\"Miele\" style=\"height:130px;\" alt=\"AU_Miele.png\" />:AU - Which of these brands of domestic appliances are you aware of?                        242 non-null    float64\n",
      " 9   <img src=\"//surveygizmolibrary.s3.amazonaws.com/library/642038/AU_Smeg.png\" title=\"Smeg\" style=\"height:130px;\" alt=\"AU_Smeg.png\" />:AU - Which of these brands of domestic appliances are you aware of?                           210 non-null    float64\n",
      " 10  <img src=\"//surveygizmolibrary.s3.amazonaws.com/library/642038/AU_Electrolux.png\" title=\"Electrolux\" style=\"height:130px;\" alt=\"AU_Electrolux.png\" />:AU - Which of these brands of domestic appliances are you aware of?         238 non-null    float64\n",
      " 11  <img src=\"//surveygizmolibrary.s3.amazonaws.com/library/642038/AU_Haier.png\" title=\"Haier\" style=\"height:130px;\" alt=\"AU_Haier.png\" />:AU - Which of these brands of domestic appliances are you aware of?                        190 non-null    float64\n",
      " 12  <img src=\"//surveygizmolibrary.s3.amazonaws.com/library/642038/AU_AEG.png\" title=\"AEG\" style=\"height:130px;\" alt=\"AU_AEG.png\" />:AU - Which of these brands of domestic appliances are you aware of?                              133 non-null    float64\n",
      "dtypes: float64(12), object(1)\n",
      "memory usage: 40.8+ KB\n"
     ]
    }
   ],
   "source": [
    "Australia.info()"
   ]
  },
  {
   "cell_type": "code",
   "execution_count": 42,
   "metadata": {},
   "outputs": [
    {
     "name": "stdout",
     "output_type": "stream",
     "text": [
      "  Response ID  Samsung   LG  Dyson  Westinghouse  Fisher Paykel  Bosch  \\\n",
      "0     AUS2001      NaN  NaN    3.0           NaN            NaN    NaN   \n",
      "1     AUS2002      1.0  2.0    3.0           4.0            5.0    6.0   \n",
      "2     AUS2003      1.0  2.0    3.0           4.0            NaN    NaN   \n",
      "3     AUS2004      1.0  2.0    3.0           NaN            5.0    6.0   \n",
      "4     AUS2005      1.0  2.0    3.0           4.0            5.0    NaN   \n",
      "\n",
      "   Hisense  Miele  Smeg  Electrolux  Haier   AEG  \n",
      "0      NaN    NaN   NaN         NaN   11.0   NaN  \n",
      "1      NaN    8.0   9.0        10.0    NaN   NaN  \n",
      "2      NaN    NaN   NaN         NaN    NaN   NaN  \n",
      "3      7.0    8.0   9.0         NaN    NaN   NaN  \n",
      "4      7.0    8.0   9.0         NaN    NaN  12.0  \n"
     ]
    }
   ],
   "source": [
    "# Rename specific columns in the DataFrame\n",
    "Australia = Australia.rename(columns={\n",
    "    '<img src=\"//surveygizmolibrary.s3.amazonaws.com/library/642038/AU_Samsung.png\" title=\"Samsung\" style=\"height:130px;\" alt=\"AU_Samsung.png\" />:AU - Which of these brands of domestic appliances are you aware of?': 'Samsung',\n",
    "    '<img src=\"//surveygizmolibrary.s3.amazonaws.com/library/642038/AU_LG.png\" title=\"LG\" style=\"height:130px;\" alt=\"AU_LG.png\" />:AU - Which of these brands of domestic appliances are you aware of?': 'LG',\n",
    "    '<img src=\"//surveygizmolibrary.s3.amazonaws.com/library/642038/AU_Dyson.png\" title=\"Dyson\" style=\"height:130px;\" alt=\"AU_Dyson.png\" />:AU - Which of these brands of domestic appliances are you aware of?': 'Dyson',\n",
    "    '<img src=\"//surveygizmolibrary.s3.amazonaws.com/library/642038/AU_Westinghouse.png\" title=\"Westinghouse\" style=\"height:130px;\" alt=\"AU_Westinghouse.png\" />:AU - Which of these brands of domestic appliances are you aware of?': 'Westinghouse',\n",
    "    '<img src=\"//surveygizmolibrary.s3.amazonaws.com/library/642038/AU_FisherPaykel.png\" title=\"Fisher Paykel\" style=\"height:130px;\" alt=\"AU_FisherPaykel.png\" />:AU - Which of these brands of domestic appliances are you aware of?': 'Fisher Paykel',\n",
    "    '<img src=\"//surveygizmolibrary.s3.amazonaws.com/library/642038/AU_Bosch.png\" title=\"Bosch\" style=\"height:130px;\" alt=\"AU_Bosch.png\" />:AU - Which of these brands of domestic appliances are you aware of?': 'Bosch',\n",
    "    '<img src=\"//surveygizmolibrary.s3.amazonaws.com/library/642038/AU_Hisense.png\" title=\"Hisense\" style=\"height:130px;\" alt=\"AU_Hisense.png\" />:AU - Which of these brands of domestic appliances are you aware of?': 'Hisense',\n",
    "    '<img src=\"//surveygizmolibrary.s3.amazonaws.com/library/642038/AU_Miele.png\" title=\"Miele\" style=\"height:130px;\" alt=\"AU_Miele.png\" />:AU - Which of these brands of domestic appliances are you aware of?': 'Miele',\n",
    "    '<img src=\"//surveygizmolibrary.s3.amazonaws.com/library/642038/AU_Smeg.png\" title=\"Smeg\" style=\"height:130px;\" alt=\"AU_Smeg.png\" />:AU - Which of these brands of domestic appliances are you aware of?': 'Smeg',\n",
    "    '<img src=\"//surveygizmolibrary.s3.amazonaws.com/library/642038/AU_Electrolux.png\" title=\"Electrolux\" style=\"height:130px;\" alt=\"AU_Electrolux.png\" />:AU - Which of these brands of domestic appliances are you aware of?': 'Electrolux',\n",
    "    '<img src=\"//surveygizmolibrary.s3.amazonaws.com/library/642038/AU_Haier.png\" title=\"Haier\" style=\"height:130px;\" alt=\"AU_Haier.png\" />:AU - Which of these brands of domestic appliances are you aware of?': 'Haier',\n",
    "    '<img src=\"//surveygizmolibrary.s3.amazonaws.com/library/642038/AU_AEG.png\" title=\"AEG\" style=\"height:130px;\" alt=\"AU_AEG.png\" />:AU - Which of these brands of domestic appliances are you aware of?': 'AEG'\n",
    "})\n",
    "\n",
    "print(Australia.head())"
   ]
  },
  {
   "cell_type": "code",
   "execution_count": 43,
   "metadata": {},
   "outputs": [
    {
     "name": "stdout",
     "output_type": "stream",
     "text": [
      "  Response ID    Brand  Aware Y/N\n",
      "0     AUS2001  Samsung          0\n",
      "1     AUS2002  Samsung          1\n",
      "2     AUS2003  Samsung          1\n",
      "3     AUS2004  Samsung          1\n",
      "4     AUS2005  Samsung          1\n"
     ]
    }
   ],
   "source": [
    "# Unpivot the DataFrame, renaming 'Variable' to 'Brand'\n",
    "australia_melted = Australia.melt(id_vars=['Response ID'], var_name='Brand', value_name='Aware Y/N')\n",
    "\n",
    "# Replace null values in the 'Aware Y/N' column with \"None of these\"\n",
    "# australia_melted['Aware Y/N'] = australia_melted['Aware Y/N'].fillna(\"None of these\")\n",
    "australia_melted['Aware Y/N'] = australia_melted['Aware Y/N'].fillna(0).astype(int)\n",
    "print(australia_melted.head())"
   ]
  },
  {
   "cell_type": "code",
   "execution_count": 44,
   "metadata": {},
   "outputs": [
    {
     "name": "stdout",
     "output_type": "stream",
     "text": [
      "Aware Y/N\n",
      "0     1702\n",
      "2      340\n",
      "1      332\n",
      "3      311\n",
      "4      290\n",
      "6      277\n",
      "7      268\n",
      "5      267\n",
      "8      242\n",
      "10     238\n",
      "9      210\n",
      "11     190\n",
      "12     133\n",
      "Name: count, dtype: int64\n"
     ]
    }
   ],
   "source": [
    "appliances_value_counts = australia_melted['Aware Y/N'].value_counts()\n",
    "print(appliances_value_counts)"
   ]
  },
  {
   "cell_type": "markdown",
   "metadata": {},
   "source": [
    "### Concat all the files and ave them into another csv file"
   ]
  },
  {
   "cell_type": "code",
   "execution_count": 45,
   "metadata": {},
   "outputs": [
    {
     "name": "stdout",
     "output_type": "stream",
     "text": [
      "  Response ID    Brand  Aware Y/N\n",
      "0     AUS2001  Samsung          0\n",
      "1     AUS2002  Samsung          1\n"
     ]
    }
   ],
   "source": [
    "# Concatenate the melted DataFrames\n",
    "combined_melted_df = pd.concat([australia_melted, germany_melted, uk_melted, vietnam_melted, poland_melted, \n",
    "                                switzerland_melted, sweden_melted, italy_melted, thailand_melted], ignore_index=True)\n",
    "\n",
    "combined_melted_df.dropna(subset=['Response ID'], inplace=True)\n",
    "\n",
    "combined_melted_df['Aware Y/N'] = combined_melted_df['Aware Y/N'].fillna(0).astype(int)\n",
    "\n",
    "# combined_melted_df.to_excel(r'C:\\Users\\aisar\\OneDrive\\Documents\\ELECTROLUX\\PROCESSED-DATA\\SEPTEMBER\\combined_q13.xlsx', float_format='%.0f', index=False)\n",
    "# combined_melted_df.to_excel(r'C:\\Users\\aisar\\OneDrive\\Documents\\ELECTROLUX\\PROCESSED-DATA\\\\OCTOBER\\combined_q13.xlsx', float_format='%.0f', index=False)\n",
    "# combined_melted_df.to_excel(r'C:\\Users\\aisar\\OneDrive\\Documents\\ELECTROLUX\\PROCESSED-DATA\\NOVEMBER\\combined_q13.xlsx', float_format='%.0f', index=False)\n",
    "# combined_melted_df.to_excel(r'C:\\Users\\aisar\\OneDrive\\Documents\\ELECTROLUX\\PROCESSED-DATA\\DECEMBER\\combined_q13.xlsx', float_format='%.0f', index=False)\n",
    "# combined_melted_df.to_excel(r'C:\\Users\\aisar\\OneDrive\\Documents\\ELECTROLUX\\PROCESSED-DATA\\2025\\JANUARY\\combined_q13.xlsx', float_format='%.0f', index=False)\n",
    "combined_melted_df.to_excel(r'C:\\Users\\aisar\\OneDrive\\Documents\\ELECTROLUX\\PROCESSED-DATA\\2025\\JULY\\combined_q13.xlsx', float_format='%.0f', index=False)\n",
    "\n",
    "print(combined_melted_df.head(2))"
   ]
  },
  {
   "cell_type": "code",
   "execution_count": 46,
   "metadata": {},
   "outputs": [
    {
     "name": "stdout",
     "output_type": "stream",
     "text": [
      "<class 'pandas.core.frame.DataFrame'>\n",
      "RangeIndex: 43600 entries, 0 to 43599\n",
      "Data columns (total 3 columns):\n",
      " #   Column       Non-Null Count  Dtype \n",
      "---  ------       --------------  ----- \n",
      " 0   Response ID  43600 non-null  object\n",
      " 1   Brand        43600 non-null  object\n",
      " 2   Aware Y/N    43600 non-null  int64 \n",
      "dtypes: int64(1), object(2)\n",
      "memory usage: 1022.0+ KB\n"
     ]
    }
   ],
   "source": [
    "combined_melted_df.info()"
   ]
  },
  {
   "cell_type": "code",
   "execution_count": 47,
   "metadata": {},
   "outputs": [
    {
     "name": "stdout",
     "output_type": "stream",
     "text": [
      "Aware Y/N\n",
      "0     14790\n",
      "1      3344\n",
      "2      2951\n",
      "3      2773\n",
      "4      2659\n",
      "5      2603\n",
      "6      2591\n",
      "7      2493\n",
      "8      2278\n",
      "9      2128\n",
      "10     1896\n",
      "11     1641\n",
      "12     1453\n",
      "Name: count, dtype: int64\n"
     ]
    }
   ],
   "source": [
    "counts = combined_melted_df['Aware Y/N'].value_counts()\n",
    "print(counts)"
   ]
  },
  {
   "cell_type": "code",
   "execution_count": 48,
   "metadata": {},
   "outputs": [
    {
     "name": "stdout",
     "output_type": "stream",
     "text": [
      "<class 'pandas.core.frame.DataFrame'>\n",
      "RangeIndex: 43600 entries, 0 to 43599\n",
      "Data columns (total 3 columns):\n",
      " #   Column       Non-Null Count  Dtype \n",
      "---  ------       --------------  ----- \n",
      " 0   Response ID  43600 non-null  object\n",
      " 1   Brand        43600 non-null  object\n",
      " 2   Aware Y/N    43600 non-null  int64 \n",
      "dtypes: int64(1), object(2)\n",
      "memory usage: 1022.0+ KB\n"
     ]
    }
   ],
   "source": [
    "combined_melted_df.info()"
   ]
  },
  {
   "cell_type": "code",
   "execution_count": 49,
   "metadata": {},
   "outputs": [
    {
     "name": "stdout",
     "output_type": "stream",
     "text": [
      "Count of blank values in 'Aware Y/N': 0\n"
     ]
    }
   ],
   "source": [
    "# Count blank (empty or NaN) values in 'Aware Y/N'\n",
    "blank_count = combined_melted_df[combined_melted_df['Aware Y/N'].isna() | (combined_melted_df['Aware Y/N'] == '')].shape[0]\n",
    "print(\"Count of blank values in 'Aware Y/N':\", blank_count)"
   ]
  },
  {
   "cell_type": "code",
   "execution_count": 50,
   "metadata": {},
   "outputs": [
    {
     "name": "stdout",
     "output_type": "stream",
     "text": [
      "      Response ID  Brand  Aware Y/N\n",
      "4000      AUS2001  Haier         11\n",
      "4006      AUS2007  Haier         11\n",
      "4010      AUS2011  Haier         11\n",
      "4014      AUS2015  Haier         11\n",
      "4017      AUS2018  Haier         11\n",
      "...           ...    ...        ...\n",
      "43180      TH2381  Bosch         11\n",
      "43182      TH2383  Bosch         11\n",
      "43183      TH2384  Bosch         11\n",
      "43195      TH2396  Bosch         11\n",
      "43197      TH2398  Bosch         11\n",
      "\n",
      "[1641 rows x 3 columns]\n"
     ]
    }
   ],
   "source": [
    "# Filter rows where 'Aware Y/N' equals 11\n",
    "filtered_rows = combined_melted_df[combined_melted_df['Aware Y/N'] == 11]\n",
    "print(filtered_rows)"
   ]
  },
  {
   "cell_type": "code",
   "execution_count": null,
   "metadata": {},
   "outputs": [
    {
     "name": "stdout",
     "output_type": "stream",
     "text": [
      "Brand\n",
      "Haier       516\n",
      "Bosch       334\n",
      "Siemens     219\n",
      "AEG         202\n",
      "Miele       185\n",
      "Liebherr    185\n",
      "Name: count, dtype: int64\n"
     ]
    },
    {
     "ename": "",
     "evalue": "",
     "output_type": "error",
     "traceback": [
      "\u001b[1;31mThe Kernel crashed while executing code in the current cell or a previous cell. \n",
      "\u001b[1;31mPlease review the code in the cell(s) to identify a possible cause of the failure. \n",
      "\u001b[1;31mClick <a href='https://aka.ms/vscodeJupyterKernelCrash'>here</a> for more info. \n",
      "\u001b[1;31mView Jupyter <a href='command:jupyter.viewOutput'>log</a> for further details."
     ]
    }
   ],
   "source": [
    "counts = filtered_rows['Brand'].value_counts()\n",
    "print(counts)"
   ]
  }
 ],
 "metadata": {
  "kernelspec": {
   "display_name": "Python 3",
   "language": "python",
   "name": "python3"
  },
  "language_info": {
   "codemirror_mode": {
    "name": "ipython",
    "version": 3
   },
   "file_extension": ".py",
   "mimetype": "text/x-python",
   "name": "python",
   "nbconvert_exporter": "python",
   "pygments_lexer": "ipython3",
   "version": "3.13.0"
  }
 },
 "nbformat": 4,
 "nbformat_minor": 2
}
