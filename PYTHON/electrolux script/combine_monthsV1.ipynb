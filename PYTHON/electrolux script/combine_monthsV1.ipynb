{
 "cells": [
  {
   "cell_type": "code",
   "execution_count": 4,
   "metadata": {},
   "outputs": [],
   "source": [
    "import pandas as pd\n",
    "import numpy as np\n",
    "import os\n",
    "import matplotlib.pyplot as plt\n",
    "import re"
   ]
  },
  {
   "cell_type": "markdown",
   "metadata": {},
   "source": [
    "## Reading data"
   ]
  },
  {
   "cell_type": "code",
   "execution_count": 5,
   "metadata": {},
   "outputs": [],
   "source": [
    "# Define base directory\n",
    "# base_dir = r'C:\\Users\\aisar\\OneDrive\\Documents\\ELECTROLUX\\PROCESSED-DATA\\TEMP'\n",
    "# base_dir = r'C:\\Users\\aisar\\OneDrive\\Documents\\ELECTROLUX\\PROCESSED-DATA'"
   ]
  },
  {
   "cell_type": "markdown",
   "metadata": {},
   "source": [
    "## Special Case for January"
   ]
  },
  {
   "cell_type": "code",
   "execution_count": 6,
   "metadata": {},
   "outputs": [],
   "source": [
    "df13 = pd.read_excel(r'C:\\Users\\aisar\\OneDrive\\Documents\\ELECTROLUX\\PROCESSED-DATA\\2025\\JULY\\combined_q13.xlsx')\n",
    "df14 = pd.read_excel(r'C:\\Users\\aisar\\OneDrive\\Documents\\ELECTROLUX\\PROCESSED-DATA\\2025\\JULY\\combined_q14.xlsx')\n",
    "df15 = pd.read_excel(r'C:\\Users\\aisar\\OneDrive\\Documents\\ELECTROLUX\\PROCESSED-DATA\\2025\\JULY\\combined_q15.xlsx')\n",
    "df16 = pd.read_excel(r'C:\\Users\\aisar\\OneDrive\\Documents\\ELECTROLUX\\PROCESSED-DATA\\2025\\JULY\\combined_q16.xlsx')\n",
    "df17 = pd.read_excel(r'C:\\Users\\aisar\\OneDrive\\Documents\\ELECTROLUX\\PROCESSED-DATA\\2025\\JULY\\combined_q17.xlsx')\n",
    "df18 = pd.read_excel(r'C:\\Users\\aisar\\OneDrive\\Documents\\ELECTROLUX\\PROCESSED-DATA\\2025\\JULY\\combined_q18.xlsx')\n",
    "df19 = pd.read_excel(r'C:\\Users\\aisar\\OneDrive\\Documents\\ELECTROLUX\\PROCESSED-DATA\\2025\\JULY\\combined_q19.xlsx')\n",
    "df20 = pd.read_excel(r'C:\\Users\\aisar\\OneDrive\\Documents\\ELECTROLUX\\PROCESSED-DATA\\2025\\JULY\\combined_q20.xlsx')"
   ]
  },
  {
   "cell_type": "code",
   "execution_count": 7,
   "metadata": {},
   "outputs": [],
   "source": [
    "# df14 = pd.read_excel(r'C:\\Users\\aisar\\OneDrive\\Documents\\ELECTROLUX\\PROCESSED-DATA\\2025\\FEBRUARY\\combined_q14.xlsx')"
   ]
  },
  {
   "cell_type": "code",
   "execution_count": 8,
   "metadata": {},
   "outputs": [],
   "source": [
    "dq13 = pd.read_csv(r'C:\\Users\\aisar\\OneDrive\\Documents\\ELECTROLUX\\PROCESSED-DATA\\COMBINED\\SEPT24-JUNE25\\merged_june_q13.csv', low_memory=False)\n",
    "dq14 = pd.read_csv(r'C:\\Users\\aisar\\OneDrive\\Documents\\ELECTROLUX\\PROCESSED-DATA\\COMBINED\\SEPT24-JUNE25\\merged_june_q14.csv', low_memory=False)\n",
    "dq15 = pd.read_csv(r'C:\\Users\\aisar\\OneDrive\\Documents\\ELECTROLUX\\PROCESSED-DATA\\COMBINED\\SEPT24-JUNE25\\merged_june_q15.csv', low_memory=False)\n",
    "dq16 = pd.read_csv(r'C:\\Users\\aisar\\OneDrive\\Documents\\ELECTROLUX\\PROCESSED-DATA\\COMBINED\\SEPT24-JUNE25\\merged_june_q16.csv', low_memory=False)\n",
    "dq17 = pd.read_csv(r'C:\\Users\\aisar\\OneDrive\\Documents\\ELECTROLUX\\PROCESSED-DATA\\COMBINED\\SEPT24-JUNE25\\merged_june_q17.csv', low_memory=False)\n",
    "dq18 = pd.read_csv(r'C:\\Users\\aisar\\OneDrive\\Documents\\ELECTROLUX\\PROCESSED-DATA\\COMBINED\\SEPT24-JUNE25\\merged_june_q18.csv', low_memory=False)\n",
    "dq19 = pd.read_csv(r'C:\\Users\\aisar\\OneDrive\\Documents\\ELECTROLUX\\PROCESSED-DATA\\COMBINED\\SEPT24-JUNE25\\merged_june_q19.csv', low_memory=False)\n",
    "dq20 = pd.read_csv(r'C:\\Users\\aisar\\OneDrive\\Documents\\ELECTROLUX\\PROCESSED-DATA\\COMBINED\\SEPT24-JUNE25\\merged_june_q20.csv', low_memory=False)\n"
   ]
  },
  {
   "cell_type": "code",
   "execution_count": 9,
   "metadata": {},
   "outputs": [
    {
     "name": "stdout",
     "output_type": "stream",
     "text": [
      "dq13: (426368, 3), df13: (43600, 3)\n",
      "dq14: (5168368, 5), df14: (518400, 5)\n",
      "dq15: (2124571, 5), df15: (216000, 5)\n",
      "dq16: (2995507, 5), df16: (302400, 5)\n",
      "dq17: (2971558, 5), df17: (302400, 5)\n",
      "dq18: (6028724, 6), df18: (604800, 6)\n",
      "dq19: (729924, 4), df19: (73200, 4)\n",
      "dq20: (729524, 4), df20: (73200, 4)\n"
     ]
    }
   ],
   "source": [
    "print(f'dq13: {dq13.shape}, df13: {df13.shape}')\n",
    "print(f'dq14: {dq14.shape}, df14: {df14.shape}')\n",
    "print(f'dq15: {dq15.shape}, df15: {df15.shape}')\n",
    "print(f'dq16: {dq16.shape}, df16: {df16.shape}')\n",
    "print(f'dq17: {dq17.shape}, df17: {df17.shape}')\n",
    "print(f'dq18: {dq18.shape}, df18: {df18.shape}')\n",
    "print(f'dq19: {dq19.shape}, df19: {df19.shape}')\n",
    "print(f'dq20: {dq20.shape}, df20: {df20.shape}')"
   ]
  },
  {
   "cell_type": "code",
   "execution_count": 10,
   "metadata": {},
   "outputs": [
    {
     "data": {
      "text/plain": [
       "(469968, 3)"
      ]
     },
     "execution_count": 10,
     "metadata": {},
     "output_type": "execute_result"
    }
   ],
   "source": [
    "combined_13 = pd.concat([dq13, df13], ignore_index=True)\n",
    "\n",
    "# Convert 'Response ID' column to string\n",
    "combined_13['Response ID'] = combined_13['Response ID'].astype(str)\n",
    "\n",
    "combined_13.to_csv(r'C:\\Users\\aisar\\OneDrive\\Documents\\ELECTROLUX\\PROCESSED-DATA\\COMBINED\\SEPT24-JULY25\\merged_JULY_q13.csv', float_format='%.0f', index=False)\n",
    "combined_13.shape"
   ]
  },
  {
   "cell_type": "code",
   "execution_count": 11,
   "metadata": {},
   "outputs": [
    {
     "data": {
      "text/plain": [
       "(5686768, 5)"
      ]
     },
     "execution_count": 11,
     "metadata": {},
     "output_type": "execute_result"
    }
   ],
   "source": [
    "combined_14 = pd.concat([dq14, df14], ignore_index=True)\n",
    "\n",
    "# Convert 'Response ID' column to string\n",
    "combined_14['Response ID'] = combined_14['Response ID'].astype(str)\n",
    "\n",
    "combined_14.to_csv(r'C:\\Users\\aisar\\OneDrive\\Documents\\ELECTROLUX\\PROCESSED-DATA\\COMBINED\\SEPT24-JULY25\\merged_JULY_q14.csv', float_format='%.0f', index=False)\n",
    "combined_14.shape"
   ]
  },
  {
   "cell_type": "code",
   "execution_count": 12,
   "metadata": {},
   "outputs": [
    {
     "name": "stdout",
     "output_type": "stream",
     "text": [
      "cleaned_source\n",
      "Not seen/heard                                                            473964\n",
      "Newspaper/Magazine (advertisements)                                       473964\n",
      "YouTube / Video                                                           473964\n",
      "At Events (fairs & exhibitions, sports, cooking, etc.)                    473964\n",
      "Outdoors (e.g. poster, bus stop, LCD/screen, underground, street lamp)    473964\n",
      "From a friend, family or someone else I know                              473964\n",
      "In a store                                                                473964\n",
      "Social media, e.g. Facebook and/or Instagram                              473964\n",
      "On TV (live, catch up or on demand)                                       473964\n",
      "When searching or shopping online                                         473964\n",
      "Somewhere else                                                            473164\n",
      "On a brand's own website, app or e-mail                                   430764\n",
      "On a brand’s own website, app or e-mail                                    24000\n",
      "On a brandâ€™s own website, app or e-mail                                  19200\n",
      "Name: count, dtype: int64\n"
     ]
    }
   ],
   "source": [
    "print(combined_14['cleaned_source'].value_counts())"
   ]
  },
  {
   "cell_type": "code",
   "execution_count": 13,
   "metadata": {},
   "outputs": [
    {
     "name": "stdout",
     "output_type": "stream",
     "text": [
      "cleaned_source\n",
      "Not seen/heard                                                            473964\n",
      "Newspaper/Magazine (advertisements)                                       473964\n",
      "YouTube / Video                                                           473964\n",
      "On a brand's own website, app or e-mail                                   473964\n",
      "On TV (live, catch up or on demand)                                       473964\n",
      "At Events (fairs & exhibitions, sports, cooking, etc.)                    473964\n",
      "From a friend, family or someone else I know                              473964\n",
      "Outdoors (e.g. poster, bus stop, LCD/screen, underground, street lamp)    473964\n",
      "In a store                                                                473964\n",
      "When searching or shopping online                                         473964\n",
      "Social media, e.g. Facebook and/or Instagram                              473964\n",
      "Somewhere else                                                            473164\n",
      "Name: count, dtype: int64\n"
     ]
    }
   ],
   "source": [
    "combined_14['cleaned_source'] = combined_14['cleaned_source'].str.replace('’', \"'\", regex=False)\n",
    "combined_14['cleaned_source'] = combined_14['cleaned_source'].str.replace('‘', \"'\", regex=False)\n",
    "combined_14['cleaned_source'] = combined_14['cleaned_source'].str.replace('â€™', \"'\", regex=False)\n",
    "\n",
    "print(combined_14['cleaned_source'].value_counts())"
   ]
  },
  {
   "cell_type": "code",
   "execution_count": 14,
   "metadata": {},
   "outputs": [],
   "source": [
    "# Convert 'Response ID' column to string\n",
    "combined_14['Response ID'] = combined_14['Response ID'].astype(str)\n",
    "\n",
    "combined_14.to_csv(r'C:\\Users\\aisar\\OneDrive\\Documents\\ELECTROLUX\\PROCESSED-DATA\\COMBINED\\SEPT24-JULY25\\merged_JULY_q14.csv', float_format='%.0f', index=False)"
   ]
  },
  {
   "cell_type": "code",
   "execution_count": 15,
   "metadata": {},
   "outputs": [
    {
     "data": {
      "text/plain": [
       "(2340571, 5)"
      ]
     },
     "execution_count": 15,
     "metadata": {},
     "output_type": "execute_result"
    }
   ],
   "source": [
    "combined_15 = pd.concat([dq15, df15], ignore_index=True)\n",
    "\n",
    "# Convert 'Response ID' column to string\n",
    "combined_15['Response ID'] = combined_15['Response ID'].astype(str)\n",
    "\n",
    "combined_15.to_csv(r'C:\\Users\\aisar\\OneDrive\\Documents\\ELECTROLUX\\PROCESSED-DATA\\COMBINED\\SEPT24-JULY25\\merged_JULY_q15.csv', float_format='%.0f', index=False)\n",
    "combined_15.shape"
   ]
  },
  {
   "cell_type": "code",
   "execution_count": 16,
   "metadata": {},
   "outputs": [
    {
     "data": {
      "text/plain": [
       "(3297907, 5)"
      ]
     },
     "execution_count": 16,
     "metadata": {},
     "output_type": "execute_result"
    }
   ],
   "source": [
    "combined_16 = pd.concat([dq16, df16], ignore_index=True)\n",
    "\n",
    "# Convert 'Response ID' column to string\n",
    "combined_16['Response ID'] = combined_15['Response ID'].astype(str)\n",
    "\n",
    "combined_16.to_csv(r'C:\\Users\\aisar\\OneDrive\\Documents\\ELECTROLUX\\PROCESSED-DATA\\COMBINED\\SEPT24-JULY25\\merged_JULY_q16.csv', float_format='%.0f', index=False)\n",
    "combined_16.shape"
   ]
  },
  {
   "cell_type": "code",
   "execution_count": 17,
   "metadata": {},
   "outputs": [
    {
     "data": {
      "text/plain": [
       "(3273958, 5)"
      ]
     },
     "execution_count": 17,
     "metadata": {},
     "output_type": "execute_result"
    }
   ],
   "source": [
    "combined_17 = pd.concat([dq17, df17], ignore_index=True)\n",
    "\n",
    "# Convert 'Response ID' column to string\n",
    "combined_17['Response ID'] = combined_17['Response ID'].astype(str)\n",
    "\n",
    "combined_17.to_csv(r'C:\\Users\\aisar\\OneDrive\\Documents\\ELECTROLUX\\PROCESSED-DATA\\COMBINED\\SEPT24-JULY25\\merged_JULY_q17.csv', float_format='%.0f', index=False)\n",
    "combined_17.shape"
   ]
  },
  {
   "cell_type": "code",
   "execution_count": 18,
   "metadata": {},
   "outputs": [
    {
     "data": {
      "text/plain": [
       "(6633524, 6)"
      ]
     },
     "execution_count": 18,
     "metadata": {},
     "output_type": "execute_result"
    }
   ],
   "source": [
    "combined_18 = pd.concat([dq18, df18], ignore_index=True)\n",
    "\n",
    "# Convert 'Response ID' column to string\n",
    "combined_18['Response ID'] = combined_18['Response ID'].astype(str)\n",
    "\n",
    "combined_18.to_csv(r'C:\\Users\\aisar\\OneDrive\\Documents\\ELECTROLUX\\PROCESSED-DATA\\COMBINED\\SEPT24-JULY25\\merged_JULY_q18.csv', float_format='%.0f', index=False)\n",
    "combined_18.shape"
   ]
  },
  {
   "cell_type": "code",
   "execution_count": 19,
   "metadata": {},
   "outputs": [
    {
     "data": {
      "text/plain": [
       "(803124, 4)"
      ]
     },
     "execution_count": 19,
     "metadata": {},
     "output_type": "execute_result"
    }
   ],
   "source": [
    "combined_19 = pd.concat([dq19, df19], ignore_index=True)\n",
    "\n",
    "# Convert 'Response ID' column to string\n",
    "combined_19['Response ID'] = combined_19['Response ID'].astype(str)\n",
    "\n",
    "combined_19.to_csv(r'C:\\Users\\aisar\\OneDrive\\Documents\\ELECTROLUX\\PROCESSED-DATA\\COMBINED\\SEPT24-JULY25\\merged_JULY_q19.csv', float_format='%.0f', index=False)\n",
    "combined_19.shape"
   ]
  },
  {
   "cell_type": "code",
   "execution_count": 20,
   "metadata": {},
   "outputs": [
    {
     "data": {
      "text/plain": [
       "(802724, 4)"
      ]
     },
     "execution_count": 20,
     "metadata": {},
     "output_type": "execute_result"
    }
   ],
   "source": [
    "combined_20 = pd.concat([dq20, df20], ignore_index=True)\n",
    "\n",
    "# Convert 'Response ID' column to string\n",
    "combined_20['Response ID'] = combined_20['Response ID'].astype(str)\n",
    "\n",
    "combined_20.to_csv(r'C:\\Users\\aisar\\OneDrive\\Documents\\ELECTROLUX\\PROCESSED-DATA\\COMBINED\\SEPT24-JULY25\\merged_JULY_q20.csv', float_format='%.0f', index=False)\n",
    "combined_20.shape"
   ]
  }
 ],
 "metadata": {
  "kernelspec": {
   "display_name": "Python 3",
   "language": "python",
   "name": "python3"
  },
  "language_info": {
   "codemirror_mode": {
    "name": "ipython",
    "version": 3
   },
   "file_extension": ".py",
   "mimetype": "text/x-python",
   "name": "python",
   "nbconvert_exporter": "python",
   "pygments_lexer": "ipython3",
   "version": "3.13.0"
  }
 },
 "nbformat": 4,
 "nbformat_minor": 2
}
