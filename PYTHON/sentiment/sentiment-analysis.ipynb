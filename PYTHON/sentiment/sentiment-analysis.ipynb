{
 "cells": [
  {
   "cell_type": "markdown",
   "id": "e355fc7a",
   "metadata": {},
   "source": [
    "dataset: https://www.kaggle.com/datasets/snap/amazon-fine-food-reviews"
   ]
  },
  {
   "cell_type": "markdown",
   "id": "8cecd12a",
   "metadata": {
    "papermill": {
     "duration": 0.008471,
     "end_time": "2024-08-04T08:21:45.995184",
     "exception": false,
     "start_time": "2024-08-04T08:21:45.986713",
     "status": "completed"
    },
    "tags": []
   },
   "source": [
    "# Importing the required Libraries"
   ]
  },
  {
   "cell_type": "code",
   "execution_count": 1,
   "id": "7911e12b",
   "metadata": {
    "_cell_guid": "b1076dfc-b9ad-4769-8c92-a6c4dae69d19",
    "_uuid": "8f2839f25d086af736a60e9eeb907d3b93b6e0e5",
    "execution": {
     "iopub.execute_input": "2024-08-04T08:21:46.015857Z",
     "iopub.status.busy": "2024-08-04T08:21:46.015309Z",
     "iopub.status.idle": "2024-08-04T08:21:49.548785Z",
     "shell.execute_reply": "2024-08-04T08:21:49.547496Z"
    },
    "papermill": {
     "duration": 3.54796,
     "end_time": "2024-08-04T08:21:49.551712",
     "exception": false,
     "start_time": "2024-08-04T08:21:46.003752",
     "status": "completed"
    },
    "tags": []
   },
   "outputs": [],
   "source": [
    "#importing the required libraries\n",
    "import pandas as pd\n",
    "import numpy as np\n",
    "import matplotlib.pyplot as plt\n",
    "import seaborn as sns\n",
    "\n",
    "plt.style.use('ggplot')\n",
    "\n",
    "import nltk\n",
    "\n",
    "# Download all NLTK resources\n",
    "nltk.download('all')\n"
   ]
  },
  {
   "cell_type": "code",
   "execution_count": 2,
   "id": "a3953624",
   "metadata": {
    "execution": {
     "iopub.execute_input": "2024-08-04T08:21:49.569348Z",
     "iopub.status.busy": "2024-08-04T08:21:49.568815Z",
     "iopub.status.idle": "2024-08-04T08:21:58.014568Z",
     "shell.execute_reply": "2024-08-04T08:21:58.013132Z"
    },
    "papermill": {
     "duration": 8.457565,
     "end_time": "2024-08-04T08:21:58.017284",
     "exception": false,
     "start_time": "2024-08-04T08:21:49.559719",
     "status": "completed"
    },
    "tags": []
   },
   "outputs": [
    {
     "name": "stdout",
     "output_type": "stream",
     "text": [
      "(568454, 10)\n",
      "(50000, 10)\n"
     ]
    }
   ],
   "source": [
    "# Reading the data\n",
    "df = pd.read_csv('Reviews.csv')\n",
    "print(df.shape)\n",
    "df=df.head(50000)\n",
    "print(df.shape)"
   ]
  },
  {
   "cell_type": "code",
   "execution_count": 3,
   "id": "b1f1861b",
   "metadata": {
    "execution": {
     "iopub.execute_input": "2024-08-04T08:21:58.035614Z",
     "iopub.status.busy": "2024-08-04T08:21:58.035159Z",
     "iopub.status.idle": "2024-08-04T08:21:58.061227Z",
     "shell.execute_reply": "2024-08-04T08:21:58.060027Z"
    },
    "papermill": {
     "duration": 0.038655,
     "end_time": "2024-08-04T08:21:58.063900",
     "exception": false,
     "start_time": "2024-08-04T08:21:58.025245",
     "status": "completed"
    },
    "tags": []
   },
   "outputs": [
    {
     "data": {
      "text/html": [
       "<div>\n",
       "<style scoped>\n",
       "    .dataframe tbody tr th:only-of-type {\n",
       "        vertical-align: middle;\n",
       "    }\n",
       "\n",
       "    .dataframe tbody tr th {\n",
       "        vertical-align: top;\n",
       "    }\n",
       "\n",
       "    .dataframe thead th {\n",
       "        text-align: right;\n",
       "    }\n",
       "</style>\n",
       "<table border=\"1\" class=\"dataframe\">\n",
       "  <thead>\n",
       "    <tr style=\"text-align: right;\">\n",
       "      <th></th>\n",
       "      <th>Id</th>\n",
       "      <th>ProductId</th>\n",
       "      <th>UserId</th>\n",
       "      <th>ProfileName</th>\n",
       "      <th>HelpfulnessNumerator</th>\n",
       "      <th>HelpfulnessDenominator</th>\n",
       "      <th>Score</th>\n",
       "      <th>Time</th>\n",
       "      <th>Summary</th>\n",
       "      <th>Text</th>\n",
       "    </tr>\n",
       "  </thead>\n",
       "  <tbody>\n",
       "    <tr>\n",
       "      <th>0</th>\n",
       "      <td>1</td>\n",
       "      <td>B001E4KFG0</td>\n",
       "      <td>A3SGXH7AUHU8GW</td>\n",
       "      <td>delmartian</td>\n",
       "      <td>1</td>\n",
       "      <td>1</td>\n",
       "      <td>5</td>\n",
       "      <td>1303862400</td>\n",
       "      <td>Good Quality Dog Food</td>\n",
       "      <td>I have bought several of the Vitality canned d...</td>\n",
       "    </tr>\n",
       "    <tr>\n",
       "      <th>1</th>\n",
       "      <td>2</td>\n",
       "      <td>B00813GRG4</td>\n",
       "      <td>A1D87F6ZCVE5NK</td>\n",
       "      <td>dll pa</td>\n",
       "      <td>0</td>\n",
       "      <td>0</td>\n",
       "      <td>1</td>\n",
       "      <td>1346976000</td>\n",
       "      <td>Not as Advertised</td>\n",
       "      <td>Product arrived labeled as Jumbo Salted Peanut...</td>\n",
       "    </tr>\n",
       "    <tr>\n",
       "      <th>2</th>\n",
       "      <td>3</td>\n",
       "      <td>B000LQOCH0</td>\n",
       "      <td>ABXLMWJIXXAIN</td>\n",
       "      <td>Natalia Corres \"Natalia Corres\"</td>\n",
       "      <td>1</td>\n",
       "      <td>1</td>\n",
       "      <td>4</td>\n",
       "      <td>1219017600</td>\n",
       "      <td>\"Delight\" says it all</td>\n",
       "      <td>This is a confection that has been around a fe...</td>\n",
       "    </tr>\n",
       "    <tr>\n",
       "      <th>3</th>\n",
       "      <td>4</td>\n",
       "      <td>B000UA0QIQ</td>\n",
       "      <td>A395BORC6FGVXV</td>\n",
       "      <td>Karl</td>\n",
       "      <td>3</td>\n",
       "      <td>3</td>\n",
       "      <td>2</td>\n",
       "      <td>1307923200</td>\n",
       "      <td>Cough Medicine</td>\n",
       "      <td>If you are looking for the secret ingredient i...</td>\n",
       "    </tr>\n",
       "    <tr>\n",
       "      <th>4</th>\n",
       "      <td>5</td>\n",
       "      <td>B006K2ZZ7K</td>\n",
       "      <td>A1UQRSCLF8GW1T</td>\n",
       "      <td>Michael D. Bigham \"M. Wassir\"</td>\n",
       "      <td>0</td>\n",
       "      <td>0</td>\n",
       "      <td>5</td>\n",
       "      <td>1350777600</td>\n",
       "      <td>Great taffy</td>\n",
       "      <td>Great taffy at a great price.  There was a wid...</td>\n",
       "    </tr>\n",
       "  </tbody>\n",
       "</table>\n",
       "</div>"
      ],
      "text/plain": [
       "   Id   ProductId          UserId                      ProfileName  \\\n",
       "0   1  B001E4KFG0  A3SGXH7AUHU8GW                       delmartian   \n",
       "1   2  B00813GRG4  A1D87F6ZCVE5NK                           dll pa   \n",
       "2   3  B000LQOCH0   ABXLMWJIXXAIN  Natalia Corres \"Natalia Corres\"   \n",
       "3   4  B000UA0QIQ  A395BORC6FGVXV                             Karl   \n",
       "4   5  B006K2ZZ7K  A1UQRSCLF8GW1T    Michael D. Bigham \"M. Wassir\"   \n",
       "\n",
       "   HelpfulnessNumerator  HelpfulnessDenominator  Score        Time  \\\n",
       "0                     1                       1      5  1303862400   \n",
       "1                     0                       0      1  1346976000   \n",
       "2                     1                       1      4  1219017600   \n",
       "3                     3                       3      2  1307923200   \n",
       "4                     0                       0      5  1350777600   \n",
       "\n",
       "                 Summary                                               Text  \n",
       "0  Good Quality Dog Food  I have bought several of the Vitality canned d...  \n",
       "1      Not as Advertised  Product arrived labeled as Jumbo Salted Peanut...  \n",
       "2  \"Delight\" says it all  This is a confection that has been around a fe...  \n",
       "3         Cough Medicine  If you are looking for the secret ingredient i...  \n",
       "4            Great taffy  Great taffy at a great price.  There was a wid...  "
      ]
     },
     "execution_count": 3,
     "metadata": {},
     "output_type": "execute_result"
    }
   ],
   "source": [
    "df.head()"
   ]
  },
  {
   "cell_type": "code",
   "execution_count": 4,
   "id": "808a1816",
   "metadata": {
    "execution": {
     "iopub.execute_input": "2024-08-04T08:21:58.083144Z",
     "iopub.status.busy": "2024-08-04T08:21:58.082726Z",
     "iopub.status.idle": "2024-08-04T08:21:58.417002Z",
     "shell.execute_reply": "2024-08-04T08:21:58.415819Z"
    },
    "papermill": {
     "duration": 0.347622,
     "end_time": "2024-08-04T08:21:58.419716",
     "exception": false,
     "start_time": "2024-08-04T08:21:58.072094",
     "status": "completed"
    },
    "tags": []
   },
   "outputs": [
    {
     "data": {
      "image/png": "[encoded data removed]",
      "text/plain": [
       "<Figure size 720x360 with 1 Axes>"
      ]
     },
     "metadata": {},
     "output_type": "display_data"
    }
   ],
   "source": [
    "ax = df['Score'].value_counts().sort_index() \\\n",
    "    .plot(kind='bar',\n",
    "          title='Count of Reviews by Stars',\n",
    "          figsize=(10, 5))\n",
    "ax.set_xlabel('Review Stars')\n",
    "plt.show()"
   ]
  },
  {
   "cell_type": "code",
   "execution_count": 5,
   "id": "52a05fb6",
   "metadata": {
    "execution": {
     "iopub.execute_input": "2024-08-04T08:21:58.439513Z",
     "iopub.status.busy": "2024-08-04T08:21:58.439078Z",
     "iopub.status.idle": "2024-08-04T08:21:58.445106Z",
     "shell.execute_reply": "2024-08-04T08:21:58.443986Z"
    },
    "papermill": {
     "duration": 0.019586,
     "end_time": "2024-08-04T08:21:58.448304",
     "exception": false,
     "start_time": "2024-08-04T08:21:58.428718",
     "status": "completed"
    },
    "tags": []
   },
   "outputs": [
    {
     "name": "stdout",
     "output_type": "stream",
     "text": [
      "Product arrived labeled as Jumbo Salted Peanuts...the peanuts were actually small sized unsalted. Not sure if this was an error or if the vendor intended to represent the product as \"Jumbo\".\n"
     ]
    }
   ],
   "source": [
    "example = df['Text'][1] #refer back to df.head()\n",
    "print(example)"
   ]
  },
  {
   "cell_type": "markdown",
   "id": "850fbefd",
   "metadata": {
    "papermill": {
     "duration": 0.008683,
     "end_time": "2024-08-04T08:21:58.465734",
     "exception": false,
     "start_time": "2024-08-04T08:21:58.457051",
     "status": "completed"
    },
    "tags": []
   },
   "source": [
    "# Data Preprocessing"
   ]
  },
  {
   "cell_type": "code",
   "execution_count": 6,
   "id": "2863ab0d",
   "metadata": {
    "execution": {
     "iopub.execute_input": "2024-08-04T08:21:58.485074Z",
     "iopub.status.busy": "2024-08-04T08:21:58.484672Z",
     "iopub.status.idle": "2024-08-04T08:21:58.508848Z",
     "shell.execute_reply": "2024-08-04T08:21:58.507645Z"
    },
    "papermill": {
     "duration": 0.037017,
     "end_time": "2024-08-04T08:21:58.511570",
     "exception": false,
     "start_time": "2024-08-04T08:21:58.474553",
     "status": "completed"
    },
    "tags": []
   },
   "outputs": [
    {
     "data": {
      "text/plain": [
       "['Product',\n",
       " 'arrived',\n",
       " 'labeled',\n",
       " 'as',\n",
       " 'Jumbo',\n",
       " 'Salted',\n",
       " 'Peanuts',\n",
       " '...',\n",
       " 'the',\n",
       " 'peanuts',\n",
       " 'were',\n",
       " 'actually',\n",
       " 'small',\n",
       " 'sized',\n",
       " 'unsalted',\n",
       " '.',\n",
       " 'Not',\n",
       " 'sure',\n",
       " 'if',\n",
       " 'this']"
      ]
     },
     "execution_count": 6,
     "metadata": {},
     "output_type": "execute_result"
    }
   ],
   "source": [
    "#tokenization\n",
    "\n",
    "tokens = nltk.word_tokenize(example)\n",
    "tokens[:20]"
   ]
  },
  {
   "cell_type": "code",
   "execution_count": 10,
   "id": "975dc824",
   "metadata": {},
   "outputs": [
    {
     "name": "stderr",
     "output_type": "stream",
     "text": [
      "[nltk_data] Downloading package averaged_perceptron_tagger to\n",
      "[nltk_data]     C:\\Users\\User\\AppData\\Roaming\\nltk_data...\n",
      "[nltk_data]   Unzipping taggers\\averaged_perceptron_tagger.zip.\n"
     ]
    },
    {
     "name": "stdout",
     "output_type": "stream",
     "text": [
      "[('Product', 'NNP'), ('arrived', 'VBD'), ('labeled', 'VBN'), ('as', 'IN'), ('Jumbo', 'NNP'), ('Salted', 'NNP'), ('Peanuts', 'NNP'), ('...', ':'), ('the', 'DT'), ('peanuts', 'NNS')]\n"
     ]
    }
   ],
   "source": [
    "import nltk\n",
    "\n",
    "# Download the required NLTK resource\n",
    "nltk.download('averaged_perceptron_tagger')\n",
    "\n",
    "# Assuming 'tokens' is already defined\n",
    "tagged = nltk.pos_tag(tokens)\n",
    "print(tagged[:10])\n"
   ]
  },
  {
   "cell_type": "code",
   "execution_count": 12,
   "id": "196e1c1d",
   "metadata": {
    "execution": {
     "iopub.execute_input": "2024-08-04T08:21:58.714528Z",
     "iopub.status.busy": "2024-08-04T08:21:58.714118Z",
     "iopub.status.idle": "2024-08-04T08:21:58.865655Z",
     "shell.execute_reply": "2024-08-04T08:21:58.864068Z"
    },
    "papermill": {
     "duration": 0.164818,
     "end_time": "2024-08-04T08:21:58.868433",
     "exception": false,
     "start_time": "2024-08-04T08:21:58.703615",
     "status": "completed"
    },
    "tags": []
   },
   "outputs": [
    {
     "name": "stderr",
     "output_type": "stream",
     "text": [
      "[nltk_data] Downloading package maxent_ne_chunker to\n",
      "[nltk_data]     C:\\Users\\User\\AppData\\Roaming\\nltk_data...\n",
      "[nltk_data]   Unzipping chunkers\\maxent_ne_chunker.zip.\n"
     ]
    },
    {
     "name": "stdout",
     "output_type": "stream",
     "text": [
      "(S\n",
      "  (GPE Product/NNP)\n",
      "  arrived/VBD\n",
      "  labeled/VBN\n",
      "  as/IN\n",
      "  (PERSON Jumbo/NNP Salted/NNP Peanuts/NNP)\n",
      "  .../:\n",
      "  the/DT\n",
      "  peanuts/NNS\n",
      "  were/VBD\n",
      "  actually/RB\n",
      "  small/JJ\n",
      "  sized/VBN\n",
      "  unsalted/JJ\n",
      "  ./.\n",
      "  Not/RB\n",
      "  sure/JJ\n",
      "  if/IN\n",
      "  this/DT\n",
      "  was/VBD\n",
      "  an/DT\n",
      "  error/NN\n",
      "  or/CC\n",
      "  if/IN\n",
      "  the/DT\n",
      "  vendor/NN\n",
      "  intended/VBN\n",
      "  to/TO\n",
      "  represent/VB\n",
      "  the/DT\n",
      "  product/NN\n",
      "  as/IN\n",
      "  ``/``\n",
      "  Jumbo/NNP\n",
      "  ''/''\n",
      "  ./.)\n"
     ]
    }
   ],
   "source": [
    "nltk.download('maxent_ne_chunker')\n",
    "\n",
    "entities = nltk.chunk.ne_chunk(tagged)\n",
    "entities.pprint()"
   ]
  },
  {
   "cell_type": "markdown",
   "id": "dcdae7e5",
   "metadata": {
    "papermill": {
     "duration": 0.008812,
     "end_time": "2024-08-04T08:21:58.886521",
     "exception": false,
     "start_time": "2024-08-04T08:21:58.877709",
     "status": "completed"
    },
    "tags": []
   },
   "source": [
    "# VADER\n",
    " - Valence Aware Dictionary and sEntiment Reasoner"
   ]
  },
  {
   "cell_type": "code",
   "execution_count": 14,
   "id": "69675758",
   "metadata": {
    "execution": {
     "iopub.execute_input": "2024-08-04T08:21:58.907468Z",
     "iopub.status.busy": "2024-08-04T08:21:58.907052Z",
     "iopub.status.idle": "2024-08-04T08:21:58.953616Z",
     "shell.execute_reply": "2024-08-04T08:21:58.952229Z"
    },
    "papermill": {
     "duration": 0.060535,
     "end_time": "2024-08-04T08:21:58.956233",
     "exception": false,
     "start_time": "2024-08-04T08:21:58.895698",
     "status": "completed"
    },
    "tags": []
   },
   "outputs": [
    {
     "name": "stderr",
     "output_type": "stream",
     "text": [
      "[nltk_data] Downloading package vader_lexicon to\n",
      "[nltk_data]     C:\\Users\\User\\AppData\\Roaming\\nltk_data...\n"
     ]
    }
   ],
   "source": [
    "nltk.download('vader_lexicon')\n",
    "\n",
    "from nltk.sentiment import SentimentIntensityAnalyzer\n",
    "from tqdm.notebook import tqdm\n",
    "\n",
    "sia = SentimentIntensityAnalyzer()"
   ]
  },
  {
   "cell_type": "code",
   "execution_count": 15,
   "id": "ab27b842",
   "metadata": {
    "execution": {
     "iopub.execute_input": "2024-08-04T08:21:58.977280Z",
     "iopub.status.busy": "2024-08-04T08:21:58.976862Z",
     "iopub.status.idle": "2024-08-04T08:21:58.985272Z",
     "shell.execute_reply": "2024-08-04T08:21:58.984155Z"
    },
    "papermill": {
     "duration": 0.022307,
     "end_time": "2024-08-04T08:21:58.988012",
     "exception": false,
     "start_time": "2024-08-04T08:21:58.965705",
     "status": "completed"
    },
    "tags": []
   },
   "outputs": [
    {
     "data": {
      "text/plain": [
       "{'neg': 0.0, 'neu': 0.318, 'pos': 0.682, 'compound': 0.6468}"
      ]
     },
     "execution_count": 15,
     "metadata": {},
     "output_type": "execute_result"
    }
   ],
   "source": [
    "sia.polarity_scores('I am so happy!')\n"
   ]
  },
  {
   "cell_type": "code",
   "execution_count": 16,
   "id": "ac816426",
   "metadata": {
    "execution": {
     "iopub.execute_input": "2024-08-04T08:21:59.010344Z",
     "iopub.status.busy": "2024-08-04T08:21:59.009918Z",
     "iopub.status.idle": "2024-08-04T08:21:59.018632Z",
     "shell.execute_reply": "2024-08-04T08:21:59.017460Z"
    },
    "papermill": {
     "duration": 0.023173,
     "end_time": "2024-08-04T08:21:59.021222",
     "exception": false,
     "start_time": "2024-08-04T08:21:58.998049",
     "status": "completed"
    },
    "tags": []
   },
   "outputs": [
    {
     "data": {
      "text/plain": [
       "{'neg': 0.451, 'neu': 0.549, 'pos': 0.0, 'compound': -0.6249}"
      ]
     },
     "execution_count": 16,
     "metadata": {},
     "output_type": "execute_result"
    }
   ],
   "source": [
    "sia.polarity_scores('This is the worst thing ever.')"
   ]
  },
  {
   "cell_type": "code",
   "execution_count": 17,
   "id": "942ec0cf",
   "metadata": {
    "execution": {
     "iopub.execute_input": "2024-08-04T08:21:59.044191Z",
     "iopub.status.busy": "2024-08-04T08:21:59.043754Z",
     "iopub.status.idle": "2024-08-04T08:23:15.913033Z",
     "shell.execute_reply": "2024-08-04T08:23:15.911769Z"
    },
    "papermill": {
     "duration": 76.885394,
     "end_time": "2024-08-04T08:23:15.917255",
     "exception": false,
     "start_time": "2024-08-04T08:21:59.031861",
     "status": "completed"
    },
    "tags": []
   },
   "outputs": [
    {
     "data": {
      "application/vnd.jupyter.widget-view+json": {
       "model_id": "10c733c29e2c4168b074ef9718f96490",
       "version_major": 2,
       "version_minor": 0
      },
      "text/plain": [
       "  0%|          | 0/50000 [00:00<?, ?it/s]"
      ]
     },
     "metadata": {},
     "output_type": "display_data"
    }
   ],
   "source": [
    "# Initialize VADER\n",
    "sia = SentimentIntensityAnalyzer()\n",
    "\n",
    "# Sentiment Score\n",
    "def sentiment_score(value,compound):\n",
    "    if (value >= 4 and compound >= 0.05) or compound >= 0.05 or value>=4:\n",
    "        return 1  # Positive\n",
    "    elif (value < 3 and compound <= -0.05) or compound <= -0.05 or value < 3:\n",
    "        return -1  # Negative\n",
    "    else:\n",
    "        return 0  # Neutral\n",
    "\n",
    "# Define Compound score with a whole value\n",
    "\n",
    "def compound_score(compound):\n",
    "    if compound >= 0.05:\n",
    "        return 1  # Positive\n",
    "    elif compound <= -0.05:\n",
    "        return -1  # Negative\n",
    "    else:\n",
    "        return 0  # Neutral\n",
    "\n",
    "score = {}\n",
    "res = {}\n",
    "approx = {}\n",
    "\n",
    "\n",
    "for i, row in tqdm(df.iterrows(), total=len(df)):\n",
    "    value = row['Score']\n",
    "    myid = row['Id']\n",
    "    text = row['Text']\n",
    "    \n",
    "\n",
    "    polarity_scores = sia.polarity_scores(text)\n",
    "    res[myid] = polarity_scores\n",
    "    \n",
    " \n",
    "    compound_value = polarity_scores['compound']\n",
    "    compound_approx = compound_score(compound_value)\n",
    "    approx[myid] = compound_approx\n",
    "    \n",
    "\n",
    "    sentiment = sentiment_score(value,compound_value)\n",
    "    score[myid] = sentiment\n",
    "\n",
    "\n"
   ]
  },
  {
   "cell_type": "code",
   "execution_count": 18,
   "id": "bfabc274",
   "metadata": {
    "execution": {
     "iopub.execute_input": "2024-08-04T08:23:15.940470Z",
     "iopub.status.busy": "2024-08-04T08:23:15.940021Z",
     "iopub.status.idle": "2024-08-04T08:23:17.918857Z",
     "shell.execute_reply": "2024-08-04T08:23:17.917278Z"
    },
    "papermill": {
     "duration": 1.993456,
     "end_time": "2024-08-04T08:23:17.921502",
     "exception": false,
     "start_time": "2024-08-04T08:23:15.928046",
     "status": "completed"
    },
    "tags": []
   },
   "outputs": [
    {
     "name": "stdout",
     "output_type": "stream",
     "text": [
      "vaders_res DataFrame:\n",
      "   Id    neg    neu    pos  compound\n",
      "0   1  0.000  0.695  0.305    0.9441\n",
      "1   2  0.138  0.862  0.000   -0.5664\n",
      "2   3  0.091  0.754  0.155    0.8265\n",
      "3   4  0.000  1.000  0.000    0.0000\n",
      "4   5  0.000  0.552  0.448    0.9468\n",
      "vaders_score DataFrame:\n",
      "   Id  Sentiment\n",
      "0   1          1\n",
      "1   2         -1\n",
      "2   3          1\n",
      "3   4         -1\n",
      "4   5          1\n",
      "final_vaders DataFrame:\n",
      "\n"
     ]
    },
    {
     "data": {
      "text/html": [
       "<div>\n",
       "<style scoped>\n",
       "    .dataframe tbody tr th:only-of-type {\n",
       "        vertical-align: middle;\n",
       "    }\n",
       "\n",
       "    .dataframe tbody tr th {\n",
       "        vertical-align: top;\n",
       "    }\n",
       "\n",
       "    .dataframe thead th {\n",
       "        text-align: right;\n",
       "    }\n",
       "</style>\n",
       "<table border=\"1\" class=\"dataframe\">\n",
       "  <thead>\n",
       "    <tr style=\"text-align: right;\">\n",
       "      <th></th>\n",
       "      <th>Id</th>\n",
       "      <th>neg</th>\n",
       "      <th>neu</th>\n",
       "      <th>pos</th>\n",
       "      <th>compound</th>\n",
       "      <th>Sentiment</th>\n",
       "      <th>Approx_Sentiment</th>\n",
       "      <th>ProductId</th>\n",
       "      <th>UserId</th>\n",
       "      <th>ProfileName</th>\n",
       "      <th>HelpfulnessNumerator</th>\n",
       "      <th>HelpfulnessDenominator</th>\n",
       "      <th>Score</th>\n",
       "      <th>Time</th>\n",
       "      <th>Summary</th>\n",
       "      <th>Text</th>\n",
       "    </tr>\n",
       "  </thead>\n",
       "  <tbody>\n",
       "    <tr>\n",
       "      <th>0</th>\n",
       "      <td>1</td>\n",
       "      <td>0.000</td>\n",
       "      <td>0.695</td>\n",
       "      <td>0.305</td>\n",
       "      <td>0.9441</td>\n",
       "      <td>1</td>\n",
       "      <td>1</td>\n",
       "      <td>B001E4KFG0</td>\n",
       "      <td>A3SGXH7AUHU8GW</td>\n",
       "      <td>delmartian</td>\n",
       "      <td>1</td>\n",
       "      <td>1</td>\n",
       "      <td>5</td>\n",
       "      <td>1303862400</td>\n",
       "      <td>Good Quality Dog Food</td>\n",
       "      <td>I have bought several of the Vitality canned d...</td>\n",
       "    </tr>\n",
       "    <tr>\n",
       "      <th>1</th>\n",
       "      <td>2</td>\n",
       "      <td>0.138</td>\n",
       "      <td>0.862</td>\n",
       "      <td>0.000</td>\n",
       "      <td>-0.5664</td>\n",
       "      <td>-1</td>\n",
       "      <td>-1</td>\n",
       "      <td>B00813GRG4</td>\n",
       "      <td>A1D87F6ZCVE5NK</td>\n",
       "      <td>dll pa</td>\n",
       "      <td>0</td>\n",
       "      <td>0</td>\n",
       "      <td>1</td>\n",
       "      <td>1346976000</td>\n",
       "      <td>Not as Advertised</td>\n",
       "      <td>Product arrived labeled as Jumbo Salted Peanut...</td>\n",
       "    </tr>\n",
       "    <tr>\n",
       "      <th>2</th>\n",
       "      <td>3</td>\n",
       "      <td>0.091</td>\n",
       "      <td>0.754</td>\n",
       "      <td>0.155</td>\n",
       "      <td>0.8265</td>\n",
       "      <td>1</td>\n",
       "      <td>1</td>\n",
       "      <td>B000LQOCH0</td>\n",
       "      <td>ABXLMWJIXXAIN</td>\n",
       "      <td>Natalia Corres \"Natalia Corres\"</td>\n",
       "      <td>1</td>\n",
       "      <td>1</td>\n",
       "      <td>4</td>\n",
       "      <td>1219017600</td>\n",
       "      <td>\"Delight\" says it all</td>\n",
       "      <td>This is a confection that has been around a fe...</td>\n",
       "    </tr>\n",
       "    <tr>\n",
       "      <th>3</th>\n",
       "      <td>4</td>\n",
       "      <td>0.000</td>\n",
       "      <td>1.000</td>\n",
       "      <td>0.000</td>\n",
       "      <td>0.0000</td>\n",
       "      <td>-1</td>\n",
       "      <td>0</td>\n",
       "      <td>B000UA0QIQ</td>\n",
       "      <td>A395BORC6FGVXV</td>\n",
       "      <td>Karl</td>\n",
       "      <td>3</td>\n",
       "      <td>3</td>\n",
       "      <td>2</td>\n",
       "      <td>1307923200</td>\n",
       "      <td>Cough Medicine</td>\n",
       "      <td>If you are looking for the secret ingredient i...</td>\n",
       "    </tr>\n",
       "    <tr>\n",
       "      <th>4</th>\n",
       "      <td>5</td>\n",
       "      <td>0.000</td>\n",
       "      <td>0.552</td>\n",
       "      <td>0.448</td>\n",
       "      <td>0.9468</td>\n",
       "      <td>1</td>\n",
       "      <td>1</td>\n",
       "      <td>B006K2ZZ7K</td>\n",
       "      <td>A1UQRSCLF8GW1T</td>\n",
       "      <td>Michael D. Bigham \"M. Wassir\"</td>\n",
       "      <td>0</td>\n",
       "      <td>0</td>\n",
       "      <td>5</td>\n",
       "      <td>1350777600</td>\n",
       "      <td>Great taffy</td>\n",
       "      <td>Great taffy at a great price.  There was a wid...</td>\n",
       "    </tr>\n",
       "  </tbody>\n",
       "</table>\n",
       "</div>"
      ],
      "text/plain": [
       "   Id    neg    neu    pos  compound  Sentiment  Approx_Sentiment   ProductId  \\\n",
       "0   1  0.000  0.695  0.305    0.9441          1                 1  B001E4KFG0   \n",
       "1   2  0.138  0.862  0.000   -0.5664         -1                -1  B00813GRG4   \n",
       "2   3  0.091  0.754  0.155    0.8265          1                 1  B000LQOCH0   \n",
       "3   4  0.000  1.000  0.000    0.0000         -1                 0  B000UA0QIQ   \n",
       "4   5  0.000  0.552  0.448    0.9468          1                 1  B006K2ZZ7K   \n",
       "\n",
       "           UserId                      ProfileName  HelpfulnessNumerator  \\\n",
       "0  A3SGXH7AUHU8GW                       delmartian                     1   \n",
       "1  A1D87F6ZCVE5NK                           dll pa                     0   \n",
       "2   ABXLMWJIXXAIN  Natalia Corres \"Natalia Corres\"                     1   \n",
       "3  A395BORC6FGVXV                             Karl                     3   \n",
       "4  A1UQRSCLF8GW1T    Michael D. Bigham \"M. Wassir\"                     0   \n",
       "\n",
       "   HelpfulnessDenominator  Score        Time                Summary  \\\n",
       "0                       1      5  1303862400  Good Quality Dog Food   \n",
       "1                       0      1  1346976000      Not as Advertised   \n",
       "2                       1      4  1219017600  \"Delight\" says it all   \n",
       "3                       3      2  1307923200         Cough Medicine   \n",
       "4                       0      5  1350777600            Great taffy   \n",
       "\n",
       "                                                Text  \n",
       "0  I have bought several of the Vitality canned d...  \n",
       "1  Product arrived labeled as Jumbo Salted Peanut...  \n",
       "2  This is a confection that has been around a fe...  \n",
       "3  If you are looking for the secret ingredient i...  \n",
       "4  Great taffy at a great price.  There was a wid...  "
      ]
     },
     "execution_count": 18,
     "metadata": {},
     "output_type": "execute_result"
    }
   ],
   "source": [
    "# Creating a DataFrame for the res dictionary\n",
    "vaders_res = pd.DataFrame(res).T\n",
    "vaders_res = vaders_res.reset_index().rename(columns={'index': 'Id'})\n",
    "\n",
    "print(\"vaders_res DataFrame:\")\n",
    "print(vaders_res.head())\n",
    "\n",
    "# Creating a DataFrame for the score dictionary\n",
    "vaders_score = pd.DataFrame(list(score.items()), columns=['Id', 'Sentiment'])\n",
    "\n",
    "print(\"vaders_score DataFrame:\")\n",
    "print(vaders_score.head())\n",
    "\n",
    "#Creating a Dataframe for the compound whole values\n",
    "\n",
    "vaders_approx = pd.DataFrame(list(approx.items()), columns=['Id', 'Approx_Sentiment'])\n",
    "\n",
    "# Merging vaders_res and vaders_score on 'Id'\n",
    "vaders = vaders_res.merge(vaders_score, how='left', on='Id')\n",
    "vaders_combined = vaders.merge(vaders_approx, how='left', on='Id')\n",
    "\n",
    "# Merging with the original df DataFrame\n",
    "\n",
    "final_vaders = vaders_combined.merge(df, how='left', on='Id')\n",
    "\n",
    "# Display the final DataFrame\n",
    "print(\"final_vaders DataFrame:\\n\")\n",
    "final_vaders.head(5)\n"
   ]
  },
  {
   "cell_type": "code",
   "execution_count": 20,
   "id": "0dff13a0",
   "metadata": {
    "execution": {
     "iopub.execute_input": "2024-08-04T08:23:17.945651Z",
     "iopub.status.busy": "2024-08-04T08:23:17.945183Z",
     "iopub.status.idle": "2024-08-04T08:23:17.969697Z",
     "shell.execute_reply": "2024-08-04T08:23:17.968435Z"
    },
    "papermill": {
     "duration": 0.039576,
     "end_time": "2024-08-04T08:23:17.972400",
     "exception": false,
     "start_time": "2024-08-04T08:23:17.932824",
     "status": "completed"
    },
    "tags": []
   },
   "outputs": [
    {
     "data": {
      "text/html": [
       "<div>\n",
       "<style scoped>\n",
       "    .dataframe tbody tr th:only-of-type {\n",
       "        vertical-align: middle;\n",
       "    }\n",
       "\n",
       "    .dataframe tbody tr th {\n",
       "        vertical-align: top;\n",
       "    }\n",
       "\n",
       "    .dataframe thead th {\n",
       "        text-align: right;\n",
       "    }\n",
       "</style>\n",
       "<table border=\"1\" class=\"dataframe\">\n",
       "  <thead>\n",
       "    <tr style=\"text-align: right;\">\n",
       "      <th></th>\n",
       "      <th>Id</th>\n",
       "      <th>neg</th>\n",
       "      <th>neu</th>\n",
       "      <th>pos</th>\n",
       "      <th>compound</th>\n",
       "      <th>Sentiment</th>\n",
       "      <th>Approx_Sentiment</th>\n",
       "      <th>ProductId</th>\n",
       "      <th>UserId</th>\n",
       "      <th>ProfileName</th>\n",
       "      <th>HelpfulnessNumerator</th>\n",
       "      <th>HelpfulnessDenominator</th>\n",
       "      <th>Score</th>\n",
       "      <th>Time</th>\n",
       "      <th>Summary</th>\n",
       "      <th>Text</th>\n",
       "    </tr>\n",
       "  </thead>\n",
       "  <tbody>\n",
       "    <tr>\n",
       "      <th>0</th>\n",
       "      <td>1</td>\n",
       "      <td>0.000</td>\n",
       "      <td>0.695</td>\n",
       "      <td>0.305</td>\n",
       "      <td>0.9441</td>\n",
       "      <td>1</td>\n",
       "      <td>1</td>\n",
       "      <td>B001E4KFG0</td>\n",
       "      <td>A3SGXH7AUHU8GW</td>\n",
       "      <td>delmartian</td>\n",
       "      <td>1</td>\n",
       "      <td>1</td>\n",
       "      <td>5</td>\n",
       "      <td>1303862400</td>\n",
       "      <td>Good Quality Dog Food</td>\n",
       "      <td>I have bought several of the Vitality canned d...</td>\n",
       "    </tr>\n",
       "    <tr>\n",
       "      <th>1</th>\n",
       "      <td>2</td>\n",
       "      <td>0.138</td>\n",
       "      <td>0.862</td>\n",
       "      <td>0.000</td>\n",
       "      <td>-0.5664</td>\n",
       "      <td>-1</td>\n",
       "      <td>-1</td>\n",
       "      <td>B00813GRG4</td>\n",
       "      <td>A1D87F6ZCVE5NK</td>\n",
       "      <td>dll pa</td>\n",
       "      <td>0</td>\n",
       "      <td>0</td>\n",
       "      <td>1</td>\n",
       "      <td>1346976000</td>\n",
       "      <td>Not as Advertised</td>\n",
       "      <td>Product arrived labeled as Jumbo Salted Peanut...</td>\n",
       "    </tr>\n",
       "    <tr>\n",
       "      <th>2</th>\n",
       "      <td>3</td>\n",
       "      <td>0.091</td>\n",
       "      <td>0.754</td>\n",
       "      <td>0.155</td>\n",
       "      <td>0.8265</td>\n",
       "      <td>1</td>\n",
       "      <td>1</td>\n",
       "      <td>B000LQOCH0</td>\n",
       "      <td>ABXLMWJIXXAIN</td>\n",
       "      <td>Natalia Corres \"Natalia Corres\"</td>\n",
       "      <td>1</td>\n",
       "      <td>1</td>\n",
       "      <td>4</td>\n",
       "      <td>1219017600</td>\n",
       "      <td>\"Delight\" says it all</td>\n",
       "      <td>This is a confection that has been around a fe...</td>\n",
       "    </tr>\n",
       "  </tbody>\n",
       "</table>\n",
       "</div>"
      ],
      "text/plain": [
       "   Id    neg    neu    pos  compound  Sentiment  Approx_Sentiment   ProductId  \\\n",
       "0   1  0.000  0.695  0.305    0.9441          1                 1  B001E4KFG0   \n",
       "1   2  0.138  0.862  0.000   -0.5664         -1                -1  B00813GRG4   \n",
       "2   3  0.091  0.754  0.155    0.8265          1                 1  B000LQOCH0   \n",
       "\n",
       "           UserId                      ProfileName  HelpfulnessNumerator  \\\n",
       "0  A3SGXH7AUHU8GW                       delmartian                     1   \n",
       "1  A1D87F6ZCVE5NK                           dll pa                     0   \n",
       "2   ABXLMWJIXXAIN  Natalia Corres \"Natalia Corres\"                     1   \n",
       "\n",
       "   HelpfulnessDenominator  Score        Time                Summary  \\\n",
       "0                       1      5  1303862400  Good Quality Dog Food   \n",
       "1                       0      1  1346976000      Not as Advertised   \n",
       "2                       1      4  1219017600  \"Delight\" says it all   \n",
       "\n",
       "                                                Text  \n",
       "0  I have bought several of the Vitality canned d...  \n",
       "1  Product arrived labeled as Jumbo Salted Peanut...  \n",
       "2  This is a confection that has been around a fe...  "
      ]
     },
     "execution_count": 20,
     "metadata": {},
     "output_type": "execute_result"
    }
   ],
   "source": [
    "final_vaders.head(3)"
   ]
  },
  {
   "cell_type": "markdown",
   "id": "38f392fd",
   "metadata": {
    "papermill": {
     "duration": 0.011041,
     "end_time": "2024-08-04T08:23:17.994959",
     "exception": false,
     "start_time": "2024-08-04T08:23:17.983918",
     "status": "completed"
    },
    "tags": []
   },
   "source": [
    "# Accuracy"
   ]
  },
  {
   "cell_type": "code",
   "execution_count": 21,
   "id": "4c7be945",
   "metadata": {
    "execution": {
     "iopub.execute_input": "2024-08-04T08:23:18.021994Z",
     "iopub.status.busy": "2024-08-04T08:23:18.021575Z",
     "iopub.status.idle": "2024-08-04T08:23:18.107937Z",
     "shell.execute_reply": "2024-08-04T08:23:18.106539Z"
    },
    "papermill": {
     "duration": 0.103768,
     "end_time": "2024-08-04T08:23:18.110959",
     "exception": false,
     "start_time": "2024-08-04T08:23:18.007191",
     "status": "completed"
    },
    "tags": []
   },
   "outputs": [
    {
     "name": "stdout",
     "output_type": "stream",
     "text": [
      "Accuracy: 0.95154\n",
      "              precision    recall  f1-score   support\n",
      "\n",
      "          -1       0.71      0.91      0.80      4081\n",
      "           0       0.15      1.00      0.26       150\n",
      "           1       1.00      0.95      0.98     45769\n",
      "\n",
      "    accuracy                           0.95     50000\n",
      "   macro avg       0.62      0.96      0.68     50000\n",
      "weighted avg       0.97      0.95      0.96     50000\n",
      "\n",
      "MSE: 0.14134, MAE: 0.07942\n"
     ]
    }
   ],
   "source": [
    "#calculating Accuracy\n",
    "from sklearn.metrics import accuracy_score, classification_report\n",
    "\n",
    "y_true = final_vaders['Sentiment']  \n",
    "y_pred = final_vaders['Approx_Sentiment']\n",
    "\n",
    "accuracy = accuracy_score(y_true, y_pred)\n",
    "print(f\"Accuracy: {accuracy}\")\n",
    "\n",
    "report = classification_report(y_true, y_pred)\n",
    "print(report)\n",
    "\n",
    "\n",
    "from sklearn.metrics import mean_squared_error, mean_absolute_error\n",
    "\n",
    "\n",
    "y_true = final_vaders['Sentiment']\n",
    "y_pred = final_vaders['Approx_Sentiment']\n",
    "\n",
    "# Calculating regression metrics\n",
    "mse = mean_squared_error(y_true, y_pred)\n",
    "mae = mean_absolute_error(y_true, y_pred)\n",
    "\n",
    "print(f\"MSE: {mse}, MAE: {mae}\")\n"
   ]
  },
  {
   "cell_type": "code",
   "execution_count": 22,
   "id": "066eb764",
   "metadata": {
    "execution": {
     "iopub.execute_input": "2024-08-04T08:23:18.135650Z",
     "iopub.status.busy": "2024-08-04T08:23:18.135195Z",
     "iopub.status.idle": "2024-08-04T08:23:18.599317Z",
     "shell.execute_reply": "2024-08-04T08:23:18.598036Z"
    },
    "papermill": {
     "duration": 0.479586,
     "end_time": "2024-08-04T08:23:18.601887",
     "exception": false,
     "start_time": "2024-08-04T08:23:18.122301",
     "status": "completed"
    },
    "tags": []
   },
   "outputs": [
    {
     "name": "stdout",
     "output_type": "stream",
     "text": [
      "Confusion Matrix:\n",
      "[[43709   512  1548]\n",
      " [    0   150     0]\n",
      " [    0   363  3718]]\n"
     ]
    },
    {
     "data": {
      "image/png": "[encoded data removed]",
      "text/plain": [
       "<Figure size 576x432 with 2 Axes>"
      ]
     },
     "metadata": {},
     "output_type": "display_data"
    }
   ],
   "source": [
    "#creating the confusion matrix\n",
    "\n",
    "from sklearn.metrics import confusion_matrix, ConfusionMatrixDisplay\n",
    "\n",
    "y_true = final_vaders['Sentiment']\n",
    "y_pred = final_vaders['compound'].apply(compound_score)\n",
    "conf_matrix = confusion_matrix(y_true, y_pred, labels=[1, 0, -1])\n",
    "\n",
    "# Print confusion matrix\n",
    "print(\"Confusion Matrix:\")\n",
    "print(conf_matrix)\n",
    "labels=[1,0,-1]\n",
    "conf_matrix_df = pd.DataFrame(conf_matrix, index=labels, columns=labels)\n",
    "\n",
    "# Plot heatmap\n",
    "plt.figure(figsize=(8, 6))\n",
    "sns.heatmap(conf_matrix_df, annot=True, fmt='d', cmap='Blues', cbar=True, \n",
    "            xticklabels=labels, yticklabels=labels)\n",
    "\n",
    "plt.xlabel('Predicted Labels')\n",
    "plt.ylabel('True Labels')\n",
    "plt.title('Confusion Matrix Heatmap')\n",
    "plt.show()"
   ]
  },
  {
   "cell_type": "code",
   "execution_count": 23,
   "id": "ecebb0d4",
   "metadata": {
    "execution": {
     "iopub.execute_input": "2024-08-04T08:23:18.627092Z",
     "iopub.status.busy": "2024-08-04T08:23:18.626660Z",
     "iopub.status.idle": "2024-08-04T08:23:19.401347Z",
     "shell.execute_reply": "2024-08-04T08:23:19.400049Z"
    },
    "papermill": {
     "duration": 0.790384,
     "end_time": "2024-08-04T08:23:19.404040",
     "exception": false,
     "start_time": "2024-08-04T08:23:18.613656",
     "status": "completed"
    },
    "tags": []
   },
   "outputs": [
    {
     "data": {
      "image/png": "[encoded data removed]",
      "text/plain": [
       "<Figure size 432x288 with 1 Axes>"
      ]
     },
     "metadata": {},
     "output_type": "display_data"
    }
   ],
   "source": [
    "ax = sns.barplot(data=final_vaders, x='Score', y='compound')\n",
    "ax.set_title('Compund Score by Amazon Star Review')\n",
    "plt.show()"
   ]
  },
  {
   "cell_type": "code",
   "execution_count": 24,
   "id": "53756c65",
   "metadata": {
    "execution": {
     "iopub.execute_input": "2024-08-04T08:23:19.430249Z",
     "iopub.status.busy": "2024-08-04T08:23:19.429829Z",
     "iopub.status.idle": "2024-08-04T08:23:21.723910Z",
     "shell.execute_reply": "2024-08-04T08:23:21.722569Z"
    },
    "papermill": {
     "duration": 2.310064,
     "end_time": "2024-08-04T08:23:21.726417",
     "exception": false,
     "start_time": "2024-08-04T08:23:19.416353",
     "status": "completed"
    },
    "tags": []
   },
   "outputs": [
    {
     "data": {
      "image/png": "[encoded data removed]",
      "text/plain": [
       "<Figure size 864x216 with 3 Axes>"
      ]
     },
     "metadata": {},
     "output_type": "display_data"
    }
   ],
   "source": [
    "#graph comparision\n",
    "fig, axs = plt.subplots(1, 3, figsize=(12, 3))\n",
    "sns.barplot(data=final_vaders, x='Score', y='pos', ax=axs[0])\n",
    "sns.barplot(data=final_vaders, x='Score', y='neu', ax=axs[1])\n",
    "sns.barplot(data=final_vaders, x='Score', y='neg', ax=axs[2])\n",
    "axs[0].set_title('Positive')\n",
    "axs[1].set_title('Neutral')\n",
    "axs[2].set_title('Negative')\n",
    "plt.tight_layout()\n",
    "plt.show()"
   ]
  },
  {
   "cell_type": "code",
   "execution_count": null,
   "id": "8dd37ed9",
   "metadata": {
    "papermill": {
     "duration": 0.018685,
     "end_time": "2024-08-04T08:23:21.758789",
     "exception": false,
     "start_time": "2024-08-04T08:23:21.740104",
     "status": "completed"
    },
    "tags": []
   },
   "outputs": [],
   "source": []
  }
 ],
 "metadata": {
  "kaggle": {
   "accelerator": "none",
   "dataSources": [
    {
     "datasetId": 18,
     "sourceId": 2157,
     "sourceType": "datasetVersion"
    }
   ],
   "dockerImageVersionId": 30746,
   "isGpuEnabled": false,
   "isInternetEnabled": true,
   "language": "python",
   "sourceType": "notebook"
  },
  "kernelspec": {
   "display_name": "Python 3",
   "language": "python",
   "name": "python3"
  },
  "language_info": {
   "codemirror_mode": {
    "name": "ipython",
    "version": 3
   },
   "file_extension": ".py",
   "mimetype": "text/x-python",
   "name": "python",
   "nbconvert_exporter": "python",
   "pygments_lexer": "ipython3",
   "version": "3.9.6"
  },
  "papermill": {
   "default_parameters": {},
   "duration": 99.993029,
   "end_time": "2024-08-04T08:23:22.695975",
   "environment_variables": {},
   "exception": null,
   "input_path": "__notebook__.ipynb",
   "output_path": "__notebook__.ipynb",
   "parameters": {},
   "start_time": "2024-08-04T08:21:42.702946",
   "version": "2.5.0"
  },
  "widgets": {
   "application/vnd.jupyter.widget-state+json": {
    "state": {
     "0668f4f58c02410dbea6ff4b8369f3e6": {
      "model_module": "@jupyter-widgets/controls",
      "model_module_version": "1.5.0",
      "model_name": "DescriptionStyleModel",
      "state": {
       "_model_module": "@jupyter-widgets/controls",
       "_model_module_version": "1.5.0",
       "_model_name": "DescriptionStyleModel",
       "_view_count": null,
       "_view_module": "@jupyter-widgets/base",
       "_view_module_version": "1.2.0",
       "_view_name": "StyleView",
       "description_width": ""
      }
     },
     "0c59746cdc584d939e20431454fde688": {
      "model_module": "@jupyter-widgets/controls",
      "model_module_version": "1.5.0",
      "model_name": "ProgressStyleModel",
      "state": {
       "_model_module": "@jupyter-widgets/controls",
       "_model_module_version": "1.5.0",
       "_model_name": "ProgressStyleModel",
       "_view_count": null,
       "_view_module": "@jupyter-widgets/base",
       "_view_module_version": "1.2.0",
       "_view_name": "StyleView",
       "bar_color": null,
       "description_width": ""
      }
     },
     "1ab07e8565d44581a5cf7556d05ea098": {
      "model_module": "@jupyter-widgets/base",
      "model_module_version": "1.2.0",
      "model_name": "LayoutModel",
      "state": {
       "_model_module": "@jupyter-widgets/base",
       "_model_module_version": "1.2.0",
       "_model_name": "LayoutModel",
       "_view_count": null,
       "_view_module": "@jupyter-widgets/base",
       "_view_module_version": "1.2.0",
       "_view_name": "LayoutView",
       "align_content": null,
       "align_items": null,
       "align_self": null,
       "border": null,
       "bottom": null,
       "display": null,
       "flex": null,
       "flex_flow": null,
       "grid_area": null,
       "grid_auto_columns": null,
       "grid_auto_flow": null,
       "grid_auto_rows": null,
       "grid_column": null,
       "grid_gap": null,
       "grid_row": null,
       "grid_template_areas": null,
       "grid_template_columns": null,
       "grid_template_rows": null,
       "height": null,
       "justify_content": null,
       "justify_items": null,
       "left": null,
       "margin": null,
       "max_height": null,
       "max_width": null,
       "min_height": null,
       "min_width": null,
       "object_fit": null,
       "object_position": null,
       "order": null,
       "overflow": null,
       "overflow_x": null,
       "overflow_y": null,
       "padding": null,
       "right": null,
       "top": null,
       "visibility": null,
       "width": null
      }
     },
     "2784538833d64ce3862632560c4a2dad": {
      "model_module": "@jupyter-widgets/controls",
      "model_module_version": "1.5.0",
      "model_name": "DescriptionStyleModel",
      "state": {
       "_model_module": "@jupyter-widgets/controls",
       "_model_module_version": "1.5.0",
       "_model_name": "DescriptionStyleModel",
       "_view_count": null,
       "_view_module": "@jupyter-widgets/base",
       "_view_module_version": "1.2.0",
       "_view_name": "StyleView",
       "description_width": ""
      }
     },
     "3172d420f6824ec3917ac8b926ee50f7": {
      "model_module": "@jupyter-widgets/controls",
      "model_module_version": "1.5.0",
      "model_name": "HTMLModel",
      "state": {
       "_dom_classes": [],
       "_model_module": "@jupyter-widgets/controls",
       "_model_module_version": "1.5.0",
       "_model_name": "HTMLModel",
       "_view_count": null,
       "_view_module": "@jupyter-widgets/controls",
       "_view_module_version": "1.5.0",
       "_view_name": "HTMLView",
       "description": "",
       "description_tooltip": null,
       "layout": "IPY_MODEL_1ab07e8565d44581a5cf7556d05ea098",
       "placeholder": "​",
       "style": "IPY_MODEL_0668f4f58c02410dbea6ff4b8369f3e6",
       "value": " 50000/50000 [01:16&lt;00:00, 669.36it/s]"
      }
     },
     "5ae8c0f8470049db9bb504d28020ef3b": {
      "model_module": "@jupyter-widgets/base",
      "model_module_version": "1.2.0",
      "model_name": "LayoutModel",
      "state": {
       "_model_module": "@jupyter-widgets/base",
       "_model_module_version": "1.2.0",
       "_model_name": "LayoutModel",
       "_view_count": null,
       "_view_module": "@jupyter-widgets/base",
       "_view_module_version": "1.2.0",
       "_view_name": "LayoutView",
       "align_content": null,
       "align_items": null,
       "align_self": null,
       "border": null,
       "bottom": null,
       "display": null,
       "flex": null,
       "flex_flow": null,
       "grid_area": null,
       "grid_auto_columns": null,
       "grid_auto_flow": null,
       "grid_auto_rows": null,
       "grid_column": null,
       "grid_gap": null,
       "grid_row": null,
       "grid_template_areas": null,
       "grid_template_columns": null,
       "grid_template_rows": null,
       "height": null,
       "justify_content": null,
       "justify_items": null,
       "left": null,
       "margin": null,
       "max_height": null,
       "max_width": null,
       "min_height": null,
       "min_width": null,
       "object_fit": null,
       "object_position": null,
       "order": null,
       "overflow": null,
       "overflow_x": null,
       "overflow_y": null,
       "padding": null,
       "right": null,
       "top": null,
       "visibility": null,
       "width": null
      }
     },
     "a2bf94edf67f4db68b474dfd6d803fc3": {
      "model_module": "@jupyter-widgets/base",
      "model_module_version": "1.2.0",
      "model_name": "LayoutModel",
      "state": {
       "_model_module": "@jupyter-widgets/base",
       "_model_module_version": "1.2.0",
       "_model_name": "LayoutModel",
       "_view_count": null,
       "_view_module": "@jupyter-widgets/base",
       "_view_module_version": "1.2.0",
       "_view_name": "LayoutView",
       "align_content": null,
       "align_items": null,
       "align_self": null,
       "border": null,
       "bottom": null,
       "display": null,
       "flex": null,
       "flex_flow": null,
       "grid_area": null,
       "grid_auto_columns": null,
       "grid_auto_flow": null,
       "grid_auto_rows": null,
       "grid_column": null,
       "grid_gap": null,
       "grid_row": null,
       "grid_template_areas": null,
       "grid_template_columns": null,
       "grid_template_rows": null,
       "height": null,
       "justify_content": null,
       "justify_items": null,
       "left": null,
       "margin": null,
       "max_height": null,
       "max_width": null,
       "min_height": null,
       "min_width": null,
       "object_fit": null,
       "object_position": null,
       "order": null,
       "overflow": null,
       "overflow_x": null,
       "overflow_y": null,
       "padding": null,
       "right": null,
       "top": null,
       "visibility": null,
       "width": null
      }
     },
     "a37713552ba64bc49af6ac8a00092111": {
      "model_module": "@jupyter-widgets/controls",
      "model_module_version": "1.5.0",
      "model_name": "HTMLModel",
      "state": {
       "_dom_classes": [],
       "_model_module": "@jupyter-widgets/controls",
       "_model_module_version": "1.5.0",
       "_model_name": "HTMLModel",
       "_view_count": null,
       "_view_module": "@jupyter-widgets/controls",
       "_view_module_version": "1.5.0",
       "_view_name": "HTMLView",
       "description": "",
       "description_tooltip": null,
       "layout": "IPY_MODEL_a2bf94edf67f4db68b474dfd6d803fc3",
       "placeholder": "​",
       "style": "IPY_MODEL_2784538833d64ce3862632560c4a2dad",
       "value": "100%"
      }
     },
     "d38bc278b9224d0d94d2396c2550ea7f": {
      "model_module": "@jupyter-widgets/controls",
      "model_module_version": "1.5.0",
      "model_name": "FloatProgressModel",
      "state": {
       "_dom_classes": [],
       "_model_module": "@jupyter-widgets/controls",
       "_model_module_version": "1.5.0",
       "_model_name": "FloatProgressModel",
       "_view_count": null,
       "_view_module": "@jupyter-widgets/controls",
       "_view_module_version": "1.5.0",
       "_view_name": "ProgressView",
       "bar_style": "success",
       "description": "",
       "description_tooltip": null,
       "layout": "IPY_MODEL_5ae8c0f8470049db9bb504d28020ef3b",
       "max": 50000,
       "min": 0,
       "orientation": "horizontal",
       "style": "IPY_MODEL_0c59746cdc584d939e20431454fde688",
       "value": 50000
      }
     },
     "e34ffe12823e480eb5063159ca997df2": {
      "model_module": "@jupyter-widgets/controls",
      "model_module_version": "1.5.0",
      "model_name": "HBoxModel",
      "state": {
       "_dom_classes": [],
       "_model_module": "@jupyter-widgets/controls",
       "_model_module_version": "1.5.0",
       "_model_name": "HBoxModel",
       "_view_count": null,
       "_view_module": "@jupyter-widgets/controls",
       "_view_module_version": "1.5.0",
       "_view_name": "HBoxView",
       "box_style": "",
       "children": [
        "IPY_MODEL_a37713552ba64bc49af6ac8a00092111",
        "IPY_MODEL_d38bc278b9224d0d94d2396c2550ea7f",
        "IPY_MODEL_3172d420f6824ec3917ac8b926ee50f7"
       ],
       "layout": "IPY_MODEL_f9bab03a075247d9b16c4fc1e4cac203"
      }
     },
     "f9bab03a075247d9b16c4fc1e4cac203": {
      "model_module": "@jupyter-widgets/base",
      "model_module_version": "1.2.0",
      "model_name": "LayoutModel",
      "state": {
       "_model_module": "@jupyter-widgets/base",
       "_model_module_version": "1.2.0",
       "_model_name": "LayoutModel",
       "_view_count": null,
       "_view_module": "@jupyter-widgets/base",
       "_view_module_version": "1.2.0",
       "_view_name": "LayoutView",
       "align_content": null,
       "align_items": null,
       "align_self": null,
       "border": null,
       "bottom": null,
       "display": null,
       "flex": null,
       "flex_flow": null,
       "grid_area": null,
       "grid_auto_columns": null,
       "grid_auto_flow": null,
       "grid_auto_rows": null,
       "grid_column": null,
       "grid_gap": null,
       "grid_row": null,
       "grid_template_areas": null,
       "grid_template_columns": null,
       "grid_template_rows": null,
       "height": null,
       "justify_content": null,
       "justify_items": null,
       "left": null,
       "margin": null,
       "max_height": null,
       "max_width": null,
       "min_height": null,
       "min_width": null,
       "object_fit": null,
       "object_position": null,
       "order": null,
       "overflow": null,
       "overflow_x": null,
       "overflow_y": null,
       "padding": null,
       "right": null,
       "top": null,
       "visibility": null,
       "width": null
      }
     }
    },
    "version_major": 2,
    "version_minor": 0
   }
  }
 },
 "nbformat": 4,
 "nbformat_minor": 5
}
